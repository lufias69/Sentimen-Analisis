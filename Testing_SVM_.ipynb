{
 "cells": [
  {
   "cell_type": "code",
   "execution_count": 3,
   "metadata": {},
   "outputs": [],
   "source": [
    "from joblib import dump, load\n",
    "import ngram as ng\n",
    "from modulku import praproses as pps"
   ]
  },
  {
   "cell_type": "code",
   "execution_count": 2,
   "metadata": {},
   "outputs": [],
   "source": [
    "# load the model from disk TF-idf\n",
    "filename = 'model/tfdf_model_ngram.joblib'\n",
    "tfidf_ngram = load(filename)\n",
    "\n",
    "filename = 'model/tfdf_model_lexicon.joblib'\n",
    "tfidf_lexicon = load(filename)\n",
    "\n",
    "# load the model from disk SVM_ngram\n",
    "filename = 'model/cSVM_imbang_With_N-Gram.joblib'\n",
    "SVM_ngram = load(filename) #\n",
    "\n",
    "filename = 'model/svm_model_lexicon.joblib'\n",
    "SVM_lexicon = load(filename) #\n",
    "\n",
    "#filename = 'model/svm_model_lexicon.joblib'\n",
    "#SVM_murni = load(filename) #"
   ]
  },
  {
   "cell_type": "markdown",
   "metadata": {},
   "source": [
    "# Testing SVM With_N-Gram"
   ]
  },
  {
   "cell_type": "code",
   "execution_count": 4,
   "metadata": {},
   "outputs": [
    {
     "name": "stdout",
     "output_type": "stream",
     "text": [
      "  berbaik hati belas kasihan bersemangat_meluap-luap!! ) tdk dgnu\n",
      "\n",
      "<< N-Gram  : Positive>>\n",
      "<< lexicon : Positive>>\n"
     ]
    }
   ],
   "source": [
    "proses = \"berbaik hati belas kasihan bersemangat_meluap-luap!! ) tdk dgnu\"\n",
    "print(\"  \"+proses)\n",
    "#proses = pps.replace_word(proses)\n",
    "proses = ng.ngram(proses)\n",
    "#proses = pps.stemmer_stopWord(proses)\n",
    "proses = ng.ngram(proses)\n",
    "tfidf_matrix_ng = tfidf_ngram.transform([proses])\n",
    "tfidf_matrix_lx = tfidf_lexicon.transform([proses])\n",
    "\n",
    "prediksi_ng = SVM_ngram.predict(tfidf_matrix_ng.toarray())[0]\n",
    "prediksi_lx = SVM_lexicon.predict(tfidf_matrix_lx.toarray())[0]\n",
    "print(\"\")\n",
    "print(\"<< N-Gram  : \"+prediksi_ng+\">>\")\n",
    "print(\"<< lexicon : \"+prediksi_lx+\">>\")"
   ]
  },
  {
   "cell_type": "code",
   "execution_count": null,
   "metadata": {},
   "outputs": [],
   "source": []
  }
 ],
 "metadata": {
  "kernelspec": {
   "display_name": "Python 3",
   "language": "python",
   "name": "python3"
  }
 },
 "nbformat": 4,
 "nbformat_minor": 2
}

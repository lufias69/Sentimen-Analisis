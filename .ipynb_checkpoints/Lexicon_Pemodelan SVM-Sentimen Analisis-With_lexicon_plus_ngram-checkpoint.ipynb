{
 "cells": [
  {
   "cell_type": "markdown",
   "metadata": {},
   "source": []
  },
  {
   "cell_type": "code",
   "execution_count": 1,
   "metadata": {},
   "outputs": [],
   "source": [
    "import pandas as pd\n",
    "import time\n",
    "import numpy as np\n",
    "import re\n",
    "import pickle\n",
    "import string, unicodedata\n",
    "from unidecode import unidecode\n",
    "from modulku import praproses as pps\n",
    "from sklearn.decomposition import PCA"
   ]
  },
  {
   "cell_type": "markdown",
   "metadata": {},
   "source": [
    "## Load Data"
   ]
  },
  {
   "cell_type": "code",
   "execution_count": 42,
   "metadata": {},
   "outputs": [
    {
     "data": {
      "text/plain": [
       "3895"
      ]
     },
     "execution_count": 42,
     "metadata": {},
     "output_type": "execute_result"
    }
   ],
   "source": [
    "data_ = pd.read_excel('data/data_siswa.xlsx')\n",
    "latih_cm = data_['Catatan Kuesioner'].tolist()\n",
    "label_cm = data_['Class'].tolist()\n",
    "len(latih_cm)"
   ]
  },
  {
   "cell_type": "markdown",
   "metadata": {},
   "source": [
    "## Seleksi Fitur"
   ]
  },
  {
   "cell_type": "code",
   "execution_count": 43,
   "metadata": {},
   "outputs": [
    {
     "name": "stdout",
     "output_type": "stream",
     "text": [
      "2029\n"
     ]
    }
   ],
   "source": [
    "#proses membuat vocabularry\n",
    "from sklearn.feature_extraction.text import TfidfVectorizer\n",
    "kosa_kata = set()\n",
    "\n",
    "###seleksi fitur\n",
    "kk = TfidfVectorizer()\n",
    "kk.fit_transform(latih_cm)\n",
    "kosa_kata = kk.get_feature_names()\n",
    "print(len(kosa_kata))\n",
    "with open('model/feature_balance_n_gram.txt', 'w') as f:\n",
    "    for item in kosa_kata:\n",
    "        f.write(\"%s\\n\" % item)"
   ]
  },
  {
   "cell_type": "markdown",
   "metadata": {},
   "source": [
    "## Proses TF-IDF"
   ]
  },
  {
   "cell_type": "code",
   "execution_count": 44,
   "metadata": {},
   "outputs": [
    {
     "name": "stdout",
     "output_type": "stream",
     "text": [
      "(3895, 2029)\n"
     ]
    }
   ],
   "source": [
    "from sklearn.feature_extraction.text import TfidfVectorizer\n",
    "#membuat TF-IDF\n",
    "f = open(\"model/feature_balance.txt\")\n",
    "kosa_kata = f.read().split()\n",
    "\n",
    "tfidf = TfidfVectorizer(vocabulary = kosa_kata)\n",
    "\n",
    "tfidf_matrix_ = tfidf.fit_transform(latih_cm) #For CM\n",
    "print(tfidf_matrix_.shape)\n",
    "X_ = tfidf_matrix_.toarray()\n",
    "X = X_\n",
    "Y_ = np.array(label_cm)\n",
    "Y = Y_"
   ]
  },
  {
   "cell_type": "markdown",
   "metadata": {},
   "source": [
    "## Plot Bar Label Dataset"
   ]
  },
  {
   "cell_type": "code",
   "execution_count": 45,
   "metadata": {},
   "outputs": [
    {
     "name": "stdout",
     "output_type": "stream",
     "text": [
      "Positive    2236\n",
      "Negative    1659\n",
      "Name: Class, dtype: int64\n"
     ]
    },
    {
     "data": {
      "image/png": "[encoded data removed]",
      "text/plain": [
       "<Figure size 432x288 with 1 Axes>"
      ]
     },
     "metadata": {
      "needs_background": "light"
     },
     "output_type": "display_data"
    }
   ],
   "source": [
    "pca = PCA(n_components=2)\n",
    "pd.value_counts(data_['Class']).plot.bar(title='Data Sentimen')\n",
    "print(pd.value_counts(data_['Class']))"
   ]
  },
  {
   "cell_type": "code",
   "execution_count": null,
   "metadata": {},
   "outputs": [],
   "source": []
  },
  {
   "cell_type": "markdown",
   "metadata": {},
   "source": [
    "## Proses Pemodelan"
   ]
  },
  {
   "cell_type": "code",
   "execution_count": 10,
   "metadata": {},
   "outputs": [],
   "source": [
    "#Import Library\n",
    "from sklearn import svm\n",
    "from sklearn.metrics import accuracy_score, precision_score"
   ]
  },
  {
   "cell_type": "markdown",
   "metadata": {},
   "source": [
    "### Input parameter"
   ]
  },
  {
   "cell_type": "code",
   "execution_count": 11,
   "metadata": {},
   "outputs": [],
   "source": [
    "#Parameter SVM\n",
    "C = 1.8\n",
    "gamma = 0.6"
   ]
  },
  {
   "cell_type": "markdown",
   "metadata": {},
   "source": [
    "## K-Fold Cross Validation \n",
    "### jalanin aja dulu"
   ]
  },
  {
   "cell_type": "code",
   "execution_count": 36,
   "metadata": {},
   "outputs": [
    {
     "name": "stdout",
     "output_type": "stream",
     "text": [
      "Hasil K-Fold SVM\n",
      "   Rerata akurasi           : 0.9966633709050161 2\n",
      "   Rerata akurasi (round)   : 1.0\n"
     ]
    },
    {
     "data": {
      "text/html": [
       "<div>\n",
       "<style scoped>\n",
       "    .dataframe tbody tr th:only-of-type {\n",
       "        vertical-align: middle;\n",
       "    }\n",
       "\n",
       "    .dataframe tbody tr th {\n",
       "        vertical-align: top;\n",
       "    }\n",
       "\n",
       "    .dataframe thead th {\n",
       "        text-align: right;\n",
       "    }\n",
       "</style>\n",
       "<table border=\"1\" class=\"dataframe\">\n",
       "  <thead>\n",
       "    <tr style=\"text-align: right;\">\n",
       "      <th></th>\n",
       "      <th>iterasi ke-</th>\n",
       "      <th>akurasi</th>\n",
       "    </tr>\n",
       "  </thead>\n",
       "  <tbody>\n",
       "    <tr>\n",
       "      <th>0</th>\n",
       "      <td>1</td>\n",
       "      <td>0.997436</td>\n",
       "    </tr>\n",
       "    <tr>\n",
       "      <th>1</th>\n",
       "      <td>2</td>\n",
       "      <td>0.994872</td>\n",
       "    </tr>\n",
       "    <tr>\n",
       "      <th>2</th>\n",
       "      <td>3</td>\n",
       "      <td>1.000000</td>\n",
       "    </tr>\n",
       "    <tr>\n",
       "      <th>3</th>\n",
       "      <td>4</td>\n",
       "      <td>0.989744</td>\n",
       "    </tr>\n",
       "    <tr>\n",
       "      <th>4</th>\n",
       "      <td>5</td>\n",
       "      <td>0.997436</td>\n",
       "    </tr>\n",
       "    <tr>\n",
       "      <th>5</th>\n",
       "      <td>6</td>\n",
       "      <td>0.997429</td>\n",
       "    </tr>\n",
       "    <tr>\n",
       "      <th>6</th>\n",
       "      <td>7</td>\n",
       "      <td>1.000000</td>\n",
       "    </tr>\n",
       "    <tr>\n",
       "      <th>7</th>\n",
       "      <td>8</td>\n",
       "      <td>0.989717</td>\n",
       "    </tr>\n",
       "    <tr>\n",
       "      <th>8</th>\n",
       "      <td>9</td>\n",
       "      <td>1.000000</td>\n",
       "    </tr>\n",
       "    <tr>\n",
       "      <th>9</th>\n",
       "      <td>10</td>\n",
       "      <td>1.000000</td>\n",
       "    </tr>\n",
       "  </tbody>\n",
       "</table>\n",
       "</div>"
      ],
      "text/plain": [
       "   iterasi ke-   akurasi\n",
       "0            1  0.997436\n",
       "1            2  0.994872\n",
       "2            3  1.000000\n",
       "3            4  0.989744\n",
       "4            5  0.997436\n",
       "5            6  0.997429\n",
       "6            7  1.000000\n",
       "7            8  0.989717\n",
       "8            9  1.000000\n",
       "9           10  1.000000"
      ]
     },
     "execution_count": 36,
     "metadata": {},
     "output_type": "execute_result"
    }
   ],
   "source": [
    "K = 10 #pembagian data uji dan data latih\n",
    "from sklearn.model_selection import KFold\n",
    "from sklearn.metrics import accuracy_score #, precision_score, recall_score\n",
    "kf= KFold(n_splits=K) \n",
    "\n",
    "cSVM = svm.SVC(kernel='rbf', gamma=gamma, C=C)\n",
    "\n",
    "akurasi_svm = []\n",
    "\n",
    "for train_index, test_index in kf.split(X):\n",
    "    #membagi data latih dan data uji\n",
    "    X_train, X_test = X[train_index], X[test_index] #pembagian data latih\n",
    "    y_train, y_test = Y[train_index], Y[test_index]\n",
    "    \n",
    "    #Melatih Model \n",
    "    mSVM = cSVM.fit(X_train, y_train) #SVM\n",
    "\n",
    "    #proses prediksi\n",
    "    P_SVM = mSVM.predict(X_test)\n",
    "\n",
    "    #menyimpan hasil akurasi tiap iterasi\n",
    "    akurasi_svm.append(accuracy_score(y_test, P_SVM))\n",
    "    \n",
    "rerata_akurasi_svm = sum(akurasi_svm)/len(akurasi_svm)\n",
    "\n",
    "print(\"Hasil K-Fold SVM\")\n",
    "print(\"   Rerata akurasi           :\",rerata_akurasi_svm)\n",
    "print(\"   Rerata akurasi (round)   :\",round(rerata_akurasi_svm,2))\n",
    "dic1 = {\"iterasi ke-\":[x+1 for x in range(10)], \"akurasi\":akurasi_svm}\n",
    "pd.DataFrame.from_dict(dic1)"
   ]
  },
  {
   "cell_type": "code",
   "execution_count": 26,
   "metadata": {},
   "outputs": [
    {
     "data": {
      "text/plain": [
       "0.9966633709050161"
      ]
     },
     "execution_count": 26,
     "metadata": {},
     "output_type": "execute_result"
    }
   ],
   "source": [
    "rerata_akurasi_svm"
   ]
  },
  {
   "cell_type": "markdown",
   "metadata": {},
   "source": [
    "# Pengujian\n",
    "## Proses Confusion Matrix untuk SVM"
   ]
  },
  {
   "cell_type": "code",
   "execution_count": 35,
   "metadata": {},
   "outputs": [
    {
     "data": {
      "text/plain": [
       "Positive    2157\n",
       "Negative    1638\n",
       "Name: label, dtype: int64"
      ]
     },
     "execution_count": 35,
     "metadata": {},
     "output_type": "execute_result"
    },
    {
     "data": {
      "image/png": "[encoded data removed]",
      "text/plain": [
       "<Figure size 432x288 with 1 Axes>"
      ]
     },
     "metadata": {
      "needs_background": "light"
     },
     "output_type": "display_data"
    }
   ],
   "source": [
    "index_train = [x for x in range(3795)]\n",
    "cm_Y = Y_[index_train]\n",
    "dc = {\"label\":cm_Y}\n",
    "cd = pd.DataFrame(dc, columns=['label'])\n",
    "pd.value_counts(cd['label']).plot.bar(title='Data sentimen')\n",
    "pd.value_counts(cd['label'])"
   ]
  },
  {
   "cell_type": "code",
   "execution_count": 34,
   "metadata": {},
   "outputs": [
    {
     "name": "stdout",
     "output_type": "stream",
     "text": [
      "SVM\n",
      "[[21  0]\n",
      " [ 0 79]]\n",
      "   F-Measure (SVM)\n",
      "   ----------------\n",
      "   akurasi   :  1.0\n",
      "   precision :  1.0\n",
      "   recall    :  1.0\n",
      "   f-Measure :  1.0\n",
      "++++++++++++++++++++\n",
      "\n"
     ]
    }
   ],
   "source": [
    "import numpy as np\n",
    "from sklearn import svm\n",
    "from sklearn.metrics import confusion_matrix\n",
    "\n",
    "\n",
    "index_train = [x for x in range(3795)]\n",
    "index__test = [x for x in range(3795, 3895)]\n",
    "\n",
    "cm_X = X_[index_train]\n",
    "cm_Y = Y_[index_train]\n",
    "cm_X_test = X_[index__test]\n",
    "cm_Y_test = Y_[index__test]\n",
    "\n",
    "X_train = cm_X\n",
    "X_test = cm_X_test\n",
    "\n",
    "y_train = cm_Y\n",
    "y_test = cm_Y_test\n",
    "\n",
    "class_names = ['Positive', 'Negative']\n",
    "\n",
    "classifier = svm.SVC(kernel='rbf', C=C, gamma=gamma) #Model SVM\n",
    "y_pred = classifier.fit(X_train, y_train).predict(X_test)\n",
    "# Compute confusion matrix\n",
    "print(\"SVM\")\n",
    "cnf_matrix = confusion_matrix(y_test, y_pred) # inti\n",
    "print(cnf_matrix)\n",
    "cm = cnf_matrix.astype('float') / cnf_matrix.sum(axis=1)[:, np.newaxis]\n",
    "tp= cm [0][0]\n",
    "fn= cm [0][1]\n",
    "fp= cm [1][0]\n",
    "tn= cm [1][1]\n",
    "cm_akurasi = (tp+tn)/(tp+tn+fp+fn)\n",
    "cm_precision = tp/(tp+fp)\n",
    "cm_recall = tp/(tp+fn)\n",
    "\n",
    "f_measure = 2*(cm_precision*cm_recall)/(cm_precision+cm_recall)\n",
    "print(\"   F-Measure (SVM)\")\n",
    "print(\"   ----------------\")\n",
    "print(\"   akurasi   : \", cm_akurasi)\n",
    "print(\"   precision : \", cm_precision)\n",
    "print(\"   recall    : \", cm_recall)\n",
    "print(\"   f-Measure : \", f_measure)"
   ]
  },
  {
   "cell_type": "markdown",
   "metadata": {},
   "source": [
    "## Menyimpan model"
   ]
  },
  {
   "cell_type": "code",
   "execution_count": 24,
   "metadata": {},
   "outputs": [],
   "source": [
    "cSVM = svm.SVC(kernel='rbf', gamma=gamma, C=C)\n",
    "#Melatih Model untuk data secara keseluruhan (X dan Y)\n",
    "cSVM = cSVM.fit(X, Y) #SVN\n",
    "\n",
    "#save models\n",
    "filename = 'model\\cSVM_imbang.irham'\n",
    "pickle.dump(cSVM, open(filename, 'wb'))\n"
   ]
  }
 ],
 "metadata": {
  "kernelspec": {
   "display_name": "Python 3",
   "language": "python",
   "name": "python3"
  },
  "language_info": {
   "codemirror_mode": {
    "name": "ipython",
    "version": 3
   },
   "file_extension": ".py",
   "mimetype": "text/x-python",
   "name": "python",
   "nbconvert_exporter": "python",
   "pygments_lexer": "ipython3",
   "version": "3.7.3"
  }
 },
 "nbformat": 4,
 "nbformat_minor": 2
}

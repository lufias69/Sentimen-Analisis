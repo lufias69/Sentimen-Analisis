{
 "cells": [
  {
   "cell_type": "code",
   "execution_count": 1,
   "metadata": {},
   "outputs": [],
   "source": [
    "from modulku import supervised_tf"
   ]
  },
  {
   "cell_type": "code",
   "execution_count": 2,
   "metadata": {},
   "outputs": [],
   "source": [
    "import scipy.sparse as sp\n",
    "\n",
    "from sklearn.feature_extraction.text import CountVectorizer\n",
    "from supervised_tf import SupervisedTermWeights\n",
    "\n",
    "from sklearn.utils.testing import assert_array_equal, assert_equal, assert_true\n",
    "\n",
    "\n",
    "# Let's do language guessing.\n",
    "docs = [\"an apple a day keeps the doctor away\",\n",
    "        \"time flies like an arrow\",\n",
    "        \"the more the merrier\",\n",
    "        \"the quick brown fox jumps over the lazy dog\",\n",
    "        \"quod licet Iovi non licet bovi\",\n",
    "        \"ut desint vires, tamen laudanda est voluntas\",\n",
    "        \"gallia est omnis divisa in partes tres\",\n",
    "        \"ceterum censeo carthaginem delendam esse\",\n",
    "        ]\n",
    "y = [\"en\", \"en\", \"en\", \"en\", \"la\", \"la\", \"la\", \"la\"]\n",
    "\n",
    "v = CountVectorizer(analyzer='char_wb', ngram_range=(2, 2))\n",
    "X = v.fit_transform(docs)\n",
    "\n",
    "\n",
    "def test_supervised_term_weights():\n",
    "    X_a = X.toarray()\n",
    "\n",
    "    for weighting in SupervisedTermWeights._WEIGHTING:\n",
    "        for reduction in SupervisedTermWeights._REDUCE:\n",
    "            sup_tw = SupervisedTermWeights(weighting=weighting,\n",
    "                                           reduce=reduction)\n",
    "            X1 = sup_tw.fit_transform(X, y)\n",
    "            X2 = sup_tw.fit(X, y).transform(X)\n",
    "\n",
    "            assert_true(sp.isspmatrix(X1))\n",
    "            assert_true(sp.isspmatrix(X2))\n",
    "            assert_equal(X1.shape, X2.shape)\n",
    "\n",
    "            X1_a = X1.toarray()\n",
    "            assert_array_equal(X1_a, X_a * sup_tw.weights_)\n"
   ]
  },
  {
   "cell_type": "code",
   "execution_count": 3,
   "metadata": {},
   "outputs": [],
   "source": [
    "aa = SupervisedTermWeights()"
   ]
  },
  {
   "cell_type": "code",
   "execution_count": 4,
   "metadata": {},
   "outputs": [
    {
     "ename": "AttributeError",
     "evalue": "'SupervisedTermWeights' object has no attribute 'weights_'",
     "output_type": "error",
     "traceback": [
      "\u001b[1;31m---------------------------------------------------------------------------\u001b[0m",
      "\u001b[1;31mAttributeError\u001b[0m                            Traceback (most recent call last)",
      "\u001b[1;32m<ipython-input-4-b4d6ca5e510b>\u001b[0m in \u001b[0;36m<module>\u001b[1;34m()\u001b[0m\n\u001b[0;32m      1\u001b[0m \u001b[0maa\u001b[0m\u001b[1;33m.\u001b[0m\u001b[0mfit\u001b[0m\u001b[1;33m(\u001b[0m\u001b[0mX\u001b[0m\u001b[1;33m,\u001b[0m\u001b[0my\u001b[0m\u001b[1;33m)\u001b[0m\u001b[1;33m\u001b[0m\u001b[0m\n\u001b[1;32m----> 2\u001b[1;33m \u001b[0maa\u001b[0m\u001b[1;33m.\u001b[0m\u001b[0mtransform\u001b[0m\u001b[1;33m(\u001b[0m\u001b[0mX\u001b[0m\u001b[1;33m,\u001b[0m\u001b[0my\u001b[0m\u001b[1;33m)\u001b[0m\u001b[1;33m\u001b[0m\u001b[0m\n\u001b[0m",
      "\u001b[1;32m~\\OneDrive - UGM 365\\Penelitian Spam-update f1\\new spam\\Penelitian Spam-perproses - Copy\\test\\239fecd3fc6b49e50da9-aa74cedc9db89d4994b235486c8d317c96351c21\\supervised_tf.py\u001b[0m in \u001b[0;36mtransform\u001b[1;34m(self, X, y)\u001b[0m\n\u001b[0;32m    105\u001b[0m         \"\"\"Transform term frequency matrix X into a weighted frequency matrix.\n\u001b[0;32m    106\u001b[0m         \"\"\"\n\u001b[1;32m--> 107\u001b[1;33m         \u001b[0mn_features\u001b[0m \u001b[1;33m=\u001b[0m \u001b[0mself\u001b[0m\u001b[1;33m.\u001b[0m\u001b[0mweights_\u001b[0m\u001b[1;33m.\u001b[0m\u001b[0mshape\u001b[0m\u001b[1;33m[\u001b[0m\u001b[1;36m0\u001b[0m\u001b[1;33m]\u001b[0m\u001b[1;33m\u001b[0m\u001b[0m\n\u001b[0m\u001b[0;32m    108\u001b[0m         \u001b[1;32mreturn\u001b[0m \u001b[0mX\u001b[0m \u001b[1;33m*\u001b[0m \u001b[0mspdiags\u001b[0m\u001b[1;33m(\u001b[0m\u001b[0mself\u001b[0m\u001b[1;33m.\u001b[0m\u001b[0mweights_\u001b[0m\u001b[1;33m,\u001b[0m \u001b[1;36m0\u001b[0m\u001b[1;33m,\u001b[0m \u001b[0mn_features\u001b[0m\u001b[1;33m,\u001b[0m \u001b[0mn_features\u001b[0m\u001b[1;33m)\u001b[0m\u001b[1;33m\u001b[0m\u001b[0m\n",
      "\u001b[1;31mAttributeError\u001b[0m: 'SupervisedTermWeights' object has no attribute 'weights_'"
     ]
    }
   ],
   "source": [
    "aa.fit(X,y)\n",
    "aa.transform(X,y)"
   ]
  }
 ],
 "metadata": {
  "kernelspec": {
   "display_name": "Python 3",
   "language": "python",
   "name": "python3"
  },
  "language_info": {
   "codemirror_mode": {
    "name": "ipython",
    "version": 3
   },
   "file_extension": ".py",
   "mimetype": "text/x-python",
   "name": "python",
   "nbconvert_exporter": "python",
   "pygments_lexer": "ipython3",
   "version": "3.7.0"
  }
 },
 "nbformat": 4,
 "nbformat_minor": 2
}

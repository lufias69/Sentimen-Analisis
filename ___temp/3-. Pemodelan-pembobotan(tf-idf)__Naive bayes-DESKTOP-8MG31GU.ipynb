{
 "cells": [
  {
   "cell_type": "markdown",
   "metadata": {},
   "source": []
  },
  {
   "cell_type": "code",
   "execution_count": 1,
   "metadata": {},
   "outputs": [],
   "source": [
    "import pandas as pd\n",
    "import time\n",
    "import numpy as np\n",
    "import re\n",
    "import pickle\n",
    "import string, unicodedata\n",
    "from unidecode import unidecode\n",
    "from modulku import praproses as pps\n",
    "from sklearn.decomposition import PCA"
   ]
  },
  {
   "cell_type": "code",
   "execution_count": 10,
   "metadata": {},
   "outputs": [],
   "source": []
  },
  {
   "cell_type": "markdown",
   "metadata": {},
   "source": [
    "## Load Data"
   ]
  },
  {
   "cell_type": "code",
   "execution_count": 10,
   "metadata": {},
   "outputs": [],
   "source": [
    "data = pd.read_excel('data/data_komentar_clean_1.xlsx', sheet_name = 'Sheet1')\n",
    "komentar = data['komentar'].tolist()\n",
    "label = data['label'].tolist()\n",
    "kode = data['kode'].tolist()\n",
    "\n",
    "#data untuk confusion matrix\n",
    "data_ = pd.read_excel('data/data_komentar_clean_1.xlsx', sheet_name = 'cm_data')\n",
    "latih_cm = data_['komentar'].tolist()\n",
    "label_cm = data_['label'].tolist()"
   ]
  },
  {
   "cell_type": "code",
   "execution_count": null,
   "metadata": {},
   "outputs": [],
   "source": []
  },
  {
   "cell_type": "markdown",
   "metadata": {},
   "source": [
    "## Seleksi Fitur"
   ]
  },
  {
   "cell_type": "code",
   "execution_count": 3,
   "metadata": {},
   "outputs": [],
   "source": [
    "#proses membuat vocabularry\n",
    "from sklearn.feature_extraction.text import TfidfVectorizer\n",
    "#kosa_kata = set()\n",
    "\n",
    "###seleksi fitur\n",
    "#kk = TfidfVectorizer()\n",
    "#kk.fit_transform(komentar)\n",
    "#kosa_kata = kk.get_feature_names()\n",
    "#print(len(kosa_kata))\n",
    "#with open('model/feature.txt', 'w') as f:\n",
    "    #for item in kosa_kata:\n",
    "        #f.write(\"%s\\n\" % item)"
   ]
  },
  {
   "cell_type": "markdown",
   "metadata": {},
   "source": [
    "## Proses TF-IDF"
   ]
  },
  {
   "cell_type": "code",
   "execution_count": 21,
   "metadata": {},
   "outputs": [
    {
     "name": "stdout",
     "output_type": "stream",
     "text": [
      "(3800, 13065)\n"
     ]
    }
   ],
   "source": [
    "from sklearn.feature_extraction.text import TfidfVectorizer\n",
    "#membuat TF-IDF\n",
    "f = open(\"model/feature.txt\")\n",
    "kosa_kata = f.read().split()\n",
    "\n",
    "tfidf = TfidfVectorizer(vocabulary = kosa_kata)\n",
    "##Membuat Matrix TF-IDF\n",
    "tfidf_matrix = tfidf.fit_transform(komentar)\n",
    "X = tfidf_matrix.toarray()\n",
    "Y = np.array(label)\n",
    "\n",
    "#For confusion matrix\n",
    "tfidf_matrix_ = tfidf.fit_transform(latih_cm) #For CM\n",
    "print(tfidf_matrix.shape)\n",
    "X_ = tfidf_matrix_.toarray()\n",
    "Y_ = np.array(label_cm)\n",
    "y = np.array(kode)"
   ]
  },
  {
   "cell_type": "markdown",
   "metadata": {},
   "source": [
    "## Plot Bar Label Dataset"
   ]
  },
  {
   "cell_type": "code",
   "execution_count": 16,
   "metadata": {},
   "outputs": [
    {
     "data": {
      "text/plain": [
       "<matplotlib.axes._subplots.AxesSubplot at 0x2948c2b4b38>"
      ]
     },
     "execution_count": 16,
     "metadata": {},
     "output_type": "execute_result"
    },
    {
     "data": {
      "image/png": "[encoded data removed]",
      "text/plain": [
       "<Figure size 432x288 with 1 Axes>"
      ]
     },
     "metadata": {
      "needs_background": "light"
     },
     "output_type": "display_data"
    }
   ],
   "source": [
    "\n",
    "pca = PCA(n_components=2)\n",
    "X = pca.fit_transform(X)\n",
    "pd.value_counts(data['label']).plot.bar(title='Spam dan bukan spam')\n",
    "#pps.plot_2d_space(X, y, 'Imbalanced dataset (2 PCA components)')"
   ]
  },
  {
   "cell_type": "code",
   "execution_count": null,
   "metadata": {},
   "outputs": [],
   "source": []
  },
  {
   "cell_type": "markdown",
   "metadata": {},
   "source": [
    "## Proses Pemodelan"
   ]
  },
  {
   "cell_type": "code",
   "execution_count": 17,
   "metadata": {},
   "outputs": [],
   "source": [
    "#Import Library\n",
    "from sklearn import svm\n",
    "from sklearn.metrics import accuracy_score, precision_score\n",
    "from sklearn.naive_bayes import ComplementNB\n",
    "from sklearn.naive_bayes import GaussianNB\n"
   ]
  },
  {
   "cell_type": "markdown",
   "metadata": {},
   "source": [
    "### Input parameter"
   ]
  },
  {
   "cell_type": "code",
   "execution_count": 19,
   "metadata": {},
   "outputs": [],
   "source": [
    "#parameter CNB\n",
    "alpha = 0.38\n",
    "\n",
    "#Parameter SVM\n",
    "C = 1.8\n",
    "gamma = 0.6"
   ]
  },
  {
   "cell_type": "markdown",
   "metadata": {},
   "source": [
    "## K-Fold Cross Validation \n",
    "### jalanin aja dulu"
   ]
  },
  {
   "cell_type": "code",
   "execution_count": null,
   "metadata": {},
   "outputs": [],
   "source": [
    "#\n",
    "K = 10 #pembagian data uji dan data latih\n",
    "from sklearn.model_selection import KFold\n",
    "from sklearn.metrics import accuracy_score #, precision_score, recall_score\n",
    "kf= KFold(n_splits=K) \n",
    "\n",
    "cSVM = svm.SVC(kernel='rbf', gamma=gamma, C=C)\n",
    "comNB = ComplementNB(alpha = alpha)\n",
    "clf = GaussianNB()\n",
    "\n",
    "akurasi_svm = []\n",
    "akurasi_cnb = []\n",
    "akurasi_gnb = []\n",
    "\n",
    "for train_index, test_index in kf.split(X):\n",
    "    #membagi data latih dan data uji\n",
    "    X_train, X_test = X[train_index], X[test_index] #pembagian data latih\n",
    "    y_train, y_test = Y[train_index], Y[test_index]\n",
    "    \n",
    "    #Melatih Model \n",
    "    mSVM = cSVM.fit(X_train, y_train) #SVM\n",
    "    mCNB = comNB.fit(X_train, y_train)\n",
    "    mGNB = clf.fit(X_train, y_train)\n",
    "            \n",
    "    #proses prediksi\n",
    "    P_SVM = mSVM.predict(X_test)\n",
    "    P_CNB = mCNB.predict(X_test)\n",
    "    P_GNB = mGNB.predict(X_test)\n",
    "    \n",
    "    #menyimpan hasil akurasi tiap iterasi\n",
    "    akurasi_svm.append(accuracy_score(y_test, P_SVM))\n",
    "    akurasi_cnb.append(accuracy_score(y_test, P_CNB))\n",
    "    akurasi_gnb.append(accuracy_score(y_test, P_GNB))\n",
    "    \n",
    "rerata_akurasi_svm = sum(akurasi_svm)/len(akurasi_svm)\n",
    "rerata_akurasi_cnb = sum(akurasi_cnb)/len(akurasi_cnb)\n",
    "rerata_akurasi_gnb = sum(akurasi_gnb)/len(akurasi_gnb)\n",
    "\n",
    "\n",
    "print(\"----------------------------------------\")\n",
    "print(\"Hasil K-Fold GNB\")\n",
    "print(\"   akurasi   :\",round(rerata_akurasi_gnb,2))\n",
    "\n",
    "print(\"----------------------------------------\")\n",
    "print(\"Hasil K-Fold CNB\")\n",
    "print(\"   akurasi   :\",round(rerata_akurasi_cnb,2))\n",
    "\n",
    "print(\"----------------------------------------\")\n",
    "print(\"Hasil K-Fold SVM\")\n",
    "print(\"   akurasi   :\",round(rerata_akurasi_svm,2))\n"
   ]
  },
  {
   "cell_type": "code",
   "execution_count": null,
   "metadata": {},
   "outputs": [],
   "source": []
  },
  {
   "cell_type": "markdown",
   "metadata": {},
   "source": [
    "# Confusion Matrix\n",
    "## Proses Confusion Matrix untuk SVM"
   ]
  },
  {
   "cell_type": "code",
   "execution_count": 13,
   "metadata": {},
   "outputs": [
    {
     "data": {
      "text/plain": [
       "<matplotlib.axes._subplots.AxesSubplot at 0x2948f55b860>"
      ]
     },
     "execution_count": 13,
     "metadata": {},
     "output_type": "execute_result"
    },
    {
     "data": {
      "image/png": "[encoded data removed]",
      "text/plain": [
       "<Figure size 432x288 with 1 Axes>"
      ]
     },
     "metadata": {
      "needs_background": "light"
     },
     "output_type": "display_data"
    }
   ],
   "source": [
    "index_train = [x for x in range(1000,3800)]\n",
    "cm_Y = Y_[index_train]\n",
    "dc = {\"label\":cm_Y}\n",
    "cd = pd.DataFrame(dc, columns=['label'])\n",
    "pd.value_counts(cd['label']).plot.bar(title='Spam dan bukan spam')"
   ]
  },
  {
   "cell_type": "code",
   "execution_count": 14,
   "metadata": {
    "scrolled": false
   },
   "outputs": [
    {
     "ename": "NameError",
     "evalue": "name 'C' is not defined",
     "output_type": "error",
     "traceback": [
      "\u001b[1;31m---------------------------------------------------------------------------\u001b[0m",
      "\u001b[1;31mNameError\u001b[0m                                 Traceback (most recent call last)",
      "\u001b[1;32m<ipython-input-14-f1e4d688d7c9>\u001b[0m in \u001b[0;36m<module>\u001b[1;34m()\u001b[0m\n\u001b[0;32m     63\u001b[0m \u001b[0mclass_names\u001b[0m \u001b[1;33m=\u001b[0m \u001b[1;33m[\u001b[0m\u001b[1;34m'spam'\u001b[0m\u001b[1;33m,\u001b[0m \u001b[1;34m'bukan spam'\u001b[0m\u001b[1;33m]\u001b[0m\u001b[1;33m\u001b[0m\u001b[0m\n\u001b[0;32m     64\u001b[0m \u001b[1;33m\u001b[0m\u001b[0m\n\u001b[1;32m---> 65\u001b[1;33m \u001b[0mclassifier\u001b[0m \u001b[1;33m=\u001b[0m \u001b[0msvm\u001b[0m\u001b[1;33m.\u001b[0m\u001b[0mSVC\u001b[0m\u001b[1;33m(\u001b[0m\u001b[0mkernel\u001b[0m\u001b[1;33m=\u001b[0m\u001b[1;34m'rbf'\u001b[0m\u001b[1;33m,\u001b[0m \u001b[0mC\u001b[0m\u001b[1;33m=\u001b[0m\u001b[0mC\u001b[0m\u001b[1;33m,\u001b[0m \u001b[0mgamma\u001b[0m\u001b[1;33m=\u001b[0m\u001b[0mgamma\u001b[0m\u001b[1;33m)\u001b[0m\u001b[1;33m\u001b[0m\u001b[0m\n\u001b[0m\u001b[0;32m     66\u001b[0m \u001b[0my_pred\u001b[0m \u001b[1;33m=\u001b[0m \u001b[0mclassifier\u001b[0m\u001b[1;33m.\u001b[0m\u001b[0mfit\u001b[0m\u001b[1;33m(\u001b[0m\u001b[0mX_train\u001b[0m\u001b[1;33m,\u001b[0m \u001b[0my_train\u001b[0m\u001b[1;33m)\u001b[0m\u001b[1;33m.\u001b[0m\u001b[0mpredict\u001b[0m\u001b[1;33m(\u001b[0m\u001b[0mX_test\u001b[0m\u001b[1;33m)\u001b[0m\u001b[1;33m\u001b[0m\u001b[0m\n\u001b[0;32m     67\u001b[0m \u001b[1;31m# Compute confusion matrix\u001b[0m\u001b[1;33m\u001b[0m\u001b[1;33m\u001b[0m\u001b[0m\n",
      "\u001b[1;31mNameError\u001b[0m: name 'C' is not defined"
     ]
    }
   ],
   "source": [
    "import itertools\n",
    "import numpy as np\n",
    "import matplotlib.pyplot as plt\n",
    "\n",
    "from sklearn import svm#, datasets\n",
    "#from sklearn.model_selection import train_test_split\n",
    "from sklearn.metrics import confusion_matrix\n",
    "\n",
    "# Split the data into a training set and a test set\n",
    "\"\"\"data uji sebanyak 1000 komentar, 500 komentar berlabel spam dan 500 komentar berlabel buka sapam\"\"\"\n",
    "index_train = [x for x in range(1000,3800)]\n",
    "index__test = [x for x in range(1000)]\n",
    "\n",
    "cm_X = X_[index_train]\n",
    "cm_Y = Y_[index_train]\n",
    "cm_X_test = X_[index__test]\n",
    "cm_Y_test = Y_[index__test]\n",
    "\n",
    "X_train = cm_X\n",
    "X_test = cm_X_test\n",
    "\n",
    "y_train = cm_Y\n",
    "y_test = cm_Y_test\n",
    "\n",
    "\n",
    "\n",
    "def plot_confusion_matrix(cm, classes,\n",
    "                          normalize=False,\n",
    "                          title='Confusion matrix',\n",
    "                          cmap=plt.cm.Blues):\n",
    "    \"\"\"\n",
    "    This function prints and plots the confusion matrix.\n",
    "    Normalization can be applied by setting `normalize=True`.\n",
    "    \"\"\"\n",
    "    if normalize:\n",
    "        cm = cm.astype('float') / cm.sum(axis=1)[:, np.newaxis]\n",
    "        print(\"Normalized confusion matrix\")\n",
    "    else:\n",
    "        print('Confusion matrix, without normalization')\n",
    "\n",
    "    print(cm)\n",
    "\n",
    "    plt.imshow(cm, interpolation='nearest', cmap=cmap)\n",
    "    plt.title(title)\n",
    "    plt.colorbar()\n",
    "    tick_marks = np.arange(len(classes))\n",
    "    plt.xticks(tick_marks, classes, rotation=45)\n",
    "    plt.yticks(tick_marks, classes)\n",
    "\n",
    "    fmt = '.2f' if normalize else 'd'\n",
    "    thresh = cm.max() / 2.\n",
    "    for i, j in itertools.product(range(cm.shape[0]), range(cm.shape[1])):\n",
    "        plt.text(j, i, format(cm[i, j], fmt),\n",
    "                 horizontalalignment=\"center\",\n",
    "                 color=\"white\" if cm[i, j] > thresh else \"black\")\n",
    "\n",
    "    plt.ylabel('True label')\n",
    "    plt.xlabel('Predicted label')\n",
    "    plt.tight_layout()\n",
    "\n",
    "\n",
    "    \n",
    "class_names = ['spam', 'bukan spam']\n",
    "\n",
    "classifier = svm.SVC(kernel='rbf', C=C, gamma=gamma)\n",
    "y_pred = classifier.fit(X_train, y_train).predict(X_test)\n",
    "# Compute confusion matrix\n",
    "print(\"SVM\")\n",
    "cnf_matrix = confusion_matrix(y_test, y_pred) # inti\n",
    "np.set_printoptions(precision=2)\n",
    "\n",
    "# Plot non-normalized confusion matrix\n",
    "plt.figure()\n",
    "plot_confusion_matrix(cnf_matrix, classes=class_names,\n",
    "                      title='Confusion matrix, without normalization')\n",
    "\n",
    "# Plot normalized confusion matrix\n",
    "plt.figure()\n",
    "plot_confusion_matrix(cnf_matrix, classes=class_names, normalize=True,\n",
    "                      title='Normalized confusion matrix')\n",
    "\n",
    "plt.show()\n",
    "# Menghitung F Measure\n",
    "cm = cnf_matrix.astype('float') / cnf_matrix.sum(axis=1)[:, np.newaxis]\n",
    "tp= round(cm [0][0],2)\n",
    "fn= round(cm [0][1],2)\n",
    "fp= round(cm [1][0],2)\n",
    "tn= round(cm [1][1],2)\n",
    "cm_akurasi = (tp+tn)/(tp+tn+fp+fn)\n",
    "cm_precision = tp/(tp+fp)\n",
    "cm_recall = tp/(tp+fn)\n",
    "\n",
    "f_measure = 2*(cm_precision*cm_recall)/(cm_precision+cm_recall)\n",
    "print(\"F-Measure (SVM)\")\n",
    "print(\"----------------\")\n",
    "print(\"akurasi   : \", round(cm_akurasi,2))\n",
    "print(\"precision : \", round(cm_precision,2))\n",
    "print(\"recall    : \", round(cm_recall,2))\n",
    "print(\"f-Measure : \", round(f_measure,2))\n",
    "print(\"+-+-+-+-+-+-+-+-+-+-+-+-+-+-+-+-+-+-+-+-+-+-+-+-+-+-+-+-+-+-+-+-+-+-\")\n",
    "\n",
    "classifier = ComplementNB(alpha = .18)\n",
    "y_pred = classifier.fit(X_train, y_train).predict(X_test)\n",
    "# Compute confusion matrix\n",
    "print(\"CNB\")\n",
    "cnf_matrix = confusion_matrix(y_test, y_pred) # inti\n",
    "np.set_printoptions(precision=2)\n",
    "\n",
    "# Plot non-normalized confusion matrix\n",
    "plt.figure()\n",
    "plot_confusion_matrix(cnf_matrix, classes=class_names,\n",
    "                      title='Confusion matrix, without normalization')\n",
    "\n",
    "# Plot normalized confusion matrix\n",
    "plt.figure()\n",
    "plot_confusion_matrix(cnf_matrix, classes=class_names, normalize=True,\n",
    "                      title='Normalized confusion matrix')\n",
    "\n",
    "plt.show()\n",
    "# Menghitung F Measure\n",
    "cm = cnf_matrix.astype('float') / cnf_matrix.sum(axis=1)[:, np.newaxis]\n",
    "tp= round(cm [0][0],2)\n",
    "fn= round(cm [0][1],2)\n",
    "fp= round(cm [1][0],2)\n",
    "tn= round(cm [1][1],2)\n",
    "cm_akurasi = (tp+tn)/(tp+tn+fp+fn)\n",
    "cm_precision = tp/(tp+fp)\n",
    "cm_recall = tp/(tp+fn)\n",
    "\n",
    "f_measure = 2*(cm_precision*cm_recall)/(cm_precision+cm_recall)\n",
    "print(\"F-Measure (ComplementNB)\")\n",
    "print(\"----------------\")\n",
    "print(\"akurasi   : \", round(cm_akurasi,2))\n",
    "print(\"precision : \", round(cm_precision,2))\n",
    "print(\"recall    : \", round(cm_recall,2))\n",
    "print(\"f-Measure : \", round(f_measure,2))\n",
    "print(\"+-+-+-+-+-+-+-+-+-+-+-+-+-+-+-+-+-+-+-+-+-+-+-+-+-+-+-+-+-+-+-+-+-+-\")\n",
    "\n",
    "classifier = GaussianNB()\n",
    "y_pred = classifier.fit(X_train, y_train).predict(X_test)\n",
    "# Compute confusion matrix\n",
    "print(\"GaussianNB\")\n",
    "cnf_matrix = confusion_matrix(y_test, y_pred) # inti\n",
    "np.set_printoptions(precision=2)\n",
    "\n",
    "# Plot non-normalized confusion matrix\n",
    "plt.figure()\n",
    "plot_confusion_matrix(cnf_matrix, classes=class_names,\n",
    "                      title='Confusion matrix, without normalization')\n",
    "\n",
    "# Plot normalized confusion matrix\n",
    "plt.figure()\n",
    "plot_confusion_matrix(cnf_matrix, classes=class_names, normalize=True,\n",
    "                      title='Normalized confusion matrix')\n",
    "\n",
    "plt.show()\n",
    "# Menghitung F Measure\n",
    "cm = cnf_matrix.astype('float') / cnf_matrix.sum(axis=1)[:, np.newaxis]\n",
    "tp= round(cm [0][0],2)\n",
    "fn= round(cm [0][1],2)\n",
    "fp= round(cm [1][0],2)\n",
    "tn= round(cm [1][1],2)\n",
    "cm_akurasi = (tp+tn)/(tp+tn+fp+fn)\n",
    "cm_precision = tp/(tp+fp)\n",
    "cm_recall = tp/(tp+fn)\n",
    "\n",
    "f_measure = 2*(cm_precision*cm_recall)/(cm_precision+cm_recall)\n",
    "print(\"F-Measure (GaussianNB)\")\n",
    "print(\"----------------\")\n",
    "print(\"akurasi   : \", round(cm_akurasi,2))\n",
    "print(\"precision : \", round(cm_precision,2))\n",
    "print(\"recall    : \", round(cm_recall,2))\n",
    "print(\"f-Measure : \", round(f_measure,2))\n",
    "print(\"+-+-+-+-+-+-+-+-+-+-+-+-+-+-+-+-+-+-+-+-+-+-+-+-+-+-+-+-+-+-+-+-+-+-\")"
   ]
  },
  {
   "cell_type": "code",
   "execution_count": 10,
   "metadata": {},
   "outputs": [],
   "source": [
    "plt.show()"
   ]
  },
  {
   "cell_type": "markdown",
   "metadata": {},
   "source": [
    "## Proses Confusion Matrix untuk CNB"
   ]
  },
  {
   "cell_type": "code",
   "execution_count": 53,
   "metadata": {
    "scrolled": false
   },
   "outputs": [
    {
     "name": "stdout",
     "output_type": "stream",
     "text": [
      "Confusion matrix, without normalization\n",
      "[[488  12]\n",
      " [ 51 449]]\n",
      "Normalized confusion matrix\n",
      "[[0.98 0.02]\n",
      " [0.1  0.9 ]]\n"
     ]
    },
    {
     "data": {
      "image/png": "[encoded data removed]",
      "text/plain": [
       "<matplotlib.figure.Figure at 0x1f377c11470>"
      ]
     },
     "metadata": {},
     "output_type": "display_data"
    },
    {
     "data": {
      "image/png": "[encoded data removed]",
      "text/plain": [
       "<matplotlib.figure.Figure at 0x1f379e641d0>"
      ]
     },
     "metadata": {},
     "output_type": "display_data"
    },
    {
     "name": "stdout",
     "output_type": "stream",
     "text": [
      "F-Measure (CNB)\n",
      "----------------\n",
      "akurasi   :  0.94\n",
      "precision :  0.91\n",
      "recall    :  0.98\n",
      "f-Measure :  0.94\n"
     ]
    }
   ],
   "source": [
    "import itertools\n",
    "import numpy as np\n",
    "import matplotlib.pyplot as plt\n",
    "from sklearn.metrics import confusion_matrix\n",
    "\n",
    "# import some data to play with\n",
    "class_names = ['spam', 'bukan spam']\n",
    "\n",
    "# Split the data into a training set and a test set\n",
    "index_train = [x for x in range(1000,3800)]\n",
    "index__test = [x for x in range(1000)]\n",
    "\n",
    "cm_X = X_[index_train]\n",
    "cm_Y = Y_[index_train]\n",
    "\n",
    "cm_X_test = X_[index__test]\n",
    "cm_Y_test = Y_[index__test]\n",
    "\n",
    "X_train = cm_X\n",
    "X_test = cm_X_test\n",
    "y_train = cm_Y\n",
    "y_test = cm_Y_test\n",
    "\n",
    "classifier = ComplementNB(alpha = .18)\n",
    "y_pred = classifier.fit(X_train, y_train).predict(X_test)\n",
    "\n",
    "def plot_confusion_matrix(cm, classes,\n",
    "                          normalize=False,\n",
    "                          title='Confusion matrix',\n",
    "                          cmap=plt.cm.Blues):\n",
    "    \"\"\"\n",
    "    This function prints and plots the confusion matrix.\n",
    "    Normalization can be applied by setting `normalize=True`.\n",
    "    \"\"\"\n",
    "    if normalize:\n",
    "        cm = cm.astype('float') / cm.sum(axis=1)[:, np.newaxis]\n",
    "        print(\"Normalized confusion matrix\")\n",
    "    else:\n",
    "        print('Confusion matrix, without normalization')\n",
    "\n",
    "    print(cm)\n",
    "\n",
    "    plt.imshow(cm, interpolation='nearest', cmap=cmap)\n",
    "    plt.title(title)\n",
    "    plt.colorbar()\n",
    "    tick_marks = np.arange(len(classes))\n",
    "    plt.xticks(tick_marks, classes, rotation=45)\n",
    "    plt.yticks(tick_marks, classes)\n",
    "\n",
    "    fmt = '.2f' if normalize else 'd'\n",
    "    thresh = cm.max() / 2.\n",
    "    for i, j in itertools.product(range(cm.shape[0]), range(cm.shape[1])):\n",
    "        plt.text(j, i, format(cm[i, j], fmt),\n",
    "                 horizontalalignment=\"center\",\n",
    "                 color=\"white\" if cm[i, j] > thresh else \"black\")\n",
    "\n",
    "    plt.ylabel('True label')\n",
    "    plt.xlabel('Predicted label')\n",
    "    plt.tight_layout()\n",
    "\n",
    "\n",
    "# Compute confusion matrix\n",
    "cnf_matrix = confusion_matrix(y_test, y_pred)\n",
    "\n",
    "\n",
    "np.set_printoptions(precision=2)\n",
    "\n",
    "# Plot non-normalized confusion matrix\n",
    "plt.figure()\n",
    "plot_confusion_matrix(cnf_matrix, classes=class_names,\n",
    "                      title='Confusion matrix, without normalization')\n",
    "\n",
    "# Plot normalized confusion matrix\n",
    "plt.figure()\n",
    "plot_confusion_matrix(cnf_matrix, classes=class_names, normalize=True,\n",
    "                      title='Normalized confusion matrix')\n",
    "\n",
    "plt.show()\n",
    "\n",
    "# Menghitung F Measure\n",
    "\n",
    "cm = cnf_matrix.astype('float') / cnf_matrix.sum(axis=1)[:, np.newaxis]\n",
    "tp= round(cm [0][0],4)\n",
    "fn= round(cm [0][1],4)\n",
    "fp= round(cm [1][0],4)\n",
    "tn= round(cm [1][1],4)\n",
    "cm_akurasi = (tp+tn)/(tp+tn+fp+fn)\n",
    "cm_precision = tp/(tp+fp)\n",
    "cm_recall = tp/(tp+fn)\n",
    "\n",
    "f_measure = 2*(cm_precision*cm_recall)/(cm_precision+cm_recall)\n",
    "print(\"F-Measure (CNB)\")\n",
    "print(\"----------------\")\n",
    "print(\"akurasi   : \", round(cm_akurasi,2))\n",
    "print(\"precision : \", round(cm_precision,2))\n",
    "print(\"recall    : \", round(cm_recall,2))\n",
    "print(\"f-Measure : \", round(f_measure,2))"
   ]
  },
  {
   "cell_type": "code",
   "execution_count": null,
   "metadata": {},
   "outputs": [],
   "source": []
  },
  {
   "cell_type": "markdown",
   "metadata": {},
   "source": [
    "## Menyimpan model"
   ]
  },
  {
   "cell_type": "code",
   "execution_count": 34,
   "metadata": {},
   "outputs": [],
   "source": [
    "cSVM = svm.SVC(kernel='rbf', gamma=gamma, C=C)\n",
    "comNB = ComplementNB(alpha = alpha)\n",
    "#Melatih Model untuk data secara keseluruhan (X dan Y)\n",
    "cSVM = cSVM.fit(X, Y) #SVN\n",
    "comNB = comNB.fit(X, Y) #CNB\n",
    "\n",
    "#save models\n",
    "filename = 'model\\cSVM.sav'\n",
    "pickle.dump(cSVM, open(filename, 'wb'))\n",
    "filename = 'model\\comNB.sav'\n",
    "pickle.dump(comNB, open(filename, 'wb'))"
   ]
  },
  {
   "cell_type": "code",
   "execution_count": 41,
   "metadata": {
    "scrolled": false
   },
   "outputs": [
    {
     "name": "stdout",
     "output_type": "stream",
     "text": [
      "                                                                                                                                                                                                                                                                                                                                                                                                                                                                                                                                                                                                                                                                                                                                                                                                                                                                                                                                                                                                                                                                                                                                                                                                                                                                                                                                                                                                                                                                                                                                                                                                                                                                                                                                                                                                                                                                                                                                                                                                                                                                                                                                                                                                                                                                                                                                                                                                                                                                                                                                                                                                                                                                                                                                                                                                                                                                                                                                                                                                                                                                                                                                                                                                                                                                                                                                                                                                                                                                                                                                                                                                                                                                                                                                                                                                                                                                                                                                                                                                                                                                                                                                                                                                                                                                                                                                                                                                                                                                                                                                                                                                                                                                                                                                                                                                                                                                                                                                                                                                                                                                                                                                                                                                                                                                                                                                                                                                                                                                                                                                                                                                                                                                                                                                                                                                                                                                                                                                                                                                                                                                                                                                                                                                                                                                                                                                                                                                                                                                                                                                                                                                                                                                                                                                                                                                                                                                                                                                                                                                                                                                                                                                                                                                                                                                                                                                                                                                                                                                                                                                                                                                                                                                                                                                                                                                                                                                                                                                                                                                                                                                                                                                                                                                                                                                                                                                                                                                                                                                                                                                                                                                                                                                                                                                                                                                                                                                                                                                                                                                                                                                                                                                                                                                                                                                                                                                                                        \n"
     ]
    }
   ],
   "source": [
    "print(\" \"*90000)"
   ]
  },
  {
   "cell_type": "markdown",
   "metadata": {},
   "source": [
    "##  komentar baru"
   ]
  },
  {
   "cell_type": "code",
   "execution_count": null,
   "metadata": {},
   "outputs": [],
   "source": [
    "from modulku import preproses\n",
    "#preproses.stemmer_stopWord(\"atau memakan nasi\")"
   ]
  },
  {
   "cell_type": "code",
   "execution_count": 36,
   "metadata": {},
   "outputs": [
    {
     "name": "stdout",
     "output_type": "stream",
     "text": [
      "Komentar: MÁŚĶĔŔ ŴÁĴÁĤŃŶÁ oĶĔ ßÁŃĞĔŤ ĶÁĶ ŚĔĶÁŔÁŃĞ ŴÁĴÁĤĶÚ ĞÁK ĶÚŚÁMMMM ĹÁĞĨIIIII MÁĶÁŚĨĤH#@DR.KEYSA.FASHIONHERBAL 😍😍 ßÁŔÚ PÁĶĔ 2MĨŃĞĞÚ ÚĎÁĤ ĶĔĹĨÁŤÁŃ PĔŔÚßÁĤÁŃŃŶÁ ŴÁĴÁĤ ÁĶÚ ĴÚĞÁ ĴÁĎĨ ĶĔŃČĔŃĞ ĞÁ ĶĔĹĨÁŤÁŃ ĶĔŔĨPÚŤ ĹÁĞĨ hehe 💖💖💖\n",
      "==============================================================================================================================\n",
      "masker wajahnya oke banget kak sekarang wajahku gak kusammmm lagiiiiii makasihh @dr.keysa.fashionherbal baru pake 2minggu udah keliatan perubahannya wajah aku juga jadi kenceng ga keliatan keriput lagi hehe\n",
      "==============================================================================================================================\n",
      "Prediksi SVM (TF-IDF)           :  ['spam']\n",
      "Prediksi C Naive Bayes (TF-IDF) :  ['spam']\n",
      "(3800, 13065)\n"
     ]
    }
   ],
   "source": [
    "t_komentar = [\"\" for x in range (3800)]\n",
    "#input_komentar = \"Cek IG kami Kak, solusiii naiiikkk tinggiiii sampe 175cm, bahkan sampe umuur 33th masih bisa looh, Buruaaaaannn. '\"\n",
    "input_komentar = input(\"Komentar: \")\n",
    "#komentar  = [cleaning2(input_komentar)]\n",
    "komentar0 = preproses.preprocessing(input_komentar)\n",
    "komentar_ = preproses.removePunc(komentar0)\n",
    "komentar_ = preproses.stemmer_stopWord(komentar_)\n",
    "t_komentar[-1]=komentar_\n",
    "print(\"==============================================================================================================================\")\n",
    "print(komentar0)\n",
    "print(\"==============================================================================================================================\")\n",
    "\n",
    "#t_clean_komentar_hapus = komentar_akhir\n",
    "#komentar_siap = []\n",
    "#komentar_siap.append(komentar)\n",
    "#vocabulary = koso_kata\n",
    "t_tfidf_matrix = tfidf.fit_transform(t_komentar)\n",
    "\n",
    "data_X = t_tfidf_matrix.toarray()\n",
    "#cek \n",
    "#x_cek = data_X[len(t_clean_komentar_hapus)-1:len(t_clean_komentar_hapus)]\n",
    "x_cek = data_X[len(t_komentar)-1:len(t_komentar)]\n",
    "#x_cek = data_X[-1]\n",
    "\n",
    "# prediksi data asli\n",
    "P_SVM = cSVM.predict(x_cek)\n",
    "P_NB = comNB.predict(x_cek)\n",
    "\n",
    "# print prediksi\n",
    "print(\"Prediksi SVM (TF-IDF)           : \", P_SVM)\n",
    "print(\"Prediksi C Naive Bayes (TF-IDF) : \", P_NB)\n",
    "print(t_tfidf_matrix.shape)\n"
   ]
  },
  {
   "cell_type": "markdown",
   "metadata": {},
   "source": [
    "## Prediksi komentar baru lebih dari satu komentar"
   ]
  },
  {
   "cell_type": "code",
   "execution_count": 7,
   "metadata": {},
   "outputs": [],
   "source": []
  },
  {
   "cell_type": "code",
   "execution_count": 8,
   "metadata": {},
   "outputs": [
    {
     "name": "stdout",
     "output_type": "stream",
     "text": [
      "*\n"
     ]
    },
    {
     "ename": "NameError",
     "evalue": "name 'TfidfVectorizer' is not defined",
     "output_type": "error",
     "traceback": [
      "\u001b[1;31m---------------------------------------------------------------------------\u001b[0m",
      "\u001b[1;31mNameError\u001b[0m                                 Traceback (most recent call last)",
      "\u001b[1;32m<ipython-input-8-929c2fdc8455>\u001b[0m in \u001b[0;36m<module>\u001b[1;34m()\u001b[0m\n\u001b[0;32m     12\u001b[0m \u001b[0mf\u001b[0m \u001b[1;33m=\u001b[0m \u001b[0mopen\u001b[0m\u001b[1;33m(\u001b[0m\u001b[1;34m\"model/feature.txt\"\u001b[0m\u001b[1;33m)\u001b[0m\u001b[1;33m\u001b[0m\u001b[0m\n\u001b[0;32m     13\u001b[0m \u001b[0mvoc\u001b[0m \u001b[1;33m=\u001b[0m \u001b[0mf\u001b[0m\u001b[1;33m.\u001b[0m\u001b[0mread\u001b[0m\u001b[1;33m(\u001b[0m\u001b[1;33m)\u001b[0m\u001b[1;33m.\u001b[0m\u001b[0msplit\u001b[0m\u001b[1;33m(\u001b[0m\u001b[1;33m)\u001b[0m\u001b[1;33m\u001b[0m\u001b[0m\n\u001b[1;32m---> 14\u001b[1;33m \u001b[0mt_tfidf\u001b[0m \u001b[1;33m=\u001b[0m \u001b[0mTfidfVectorizer\u001b[0m\u001b[1;33m(\u001b[0m\u001b[0mvocabulary\u001b[0m \u001b[1;33m=\u001b[0m \u001b[0mvoc\u001b[0m\u001b[1;33m)\u001b[0m\u001b[1;33m\u001b[0m\u001b[0m\n\u001b[0m\u001b[0;32m     15\u001b[0m \u001b[0mt_tfidf_matrix\u001b[0m \u001b[1;33m=\u001b[0m \u001b[0mtfidf\u001b[0m\u001b[1;33m.\u001b[0m\u001b[0mfit_transform\u001b[0m\u001b[1;33m(\u001b[0m\u001b[0mkokom\u001b[0m\u001b[1;33m)\u001b[0m\u001b[1;33m\u001b[0m\u001b[0m\n\u001b[0;32m     16\u001b[0m \u001b[0mcek_komentar\u001b[0m \u001b[1;33m=\u001b[0m \u001b[0mt_tfidf_matrix\u001b[0m\u001b[1;33m[\u001b[0m\u001b[1;33m:\u001b[0m\u001b[0mlen\u001b[0m\u001b[1;33m(\u001b[0m\u001b[0mlist_komentar\u001b[0m\u001b[1;33m)\u001b[0m\u001b[1;33m]\u001b[0m\u001b[1;33m\u001b[0m\u001b[0m\n",
      "\u001b[1;31mNameError\u001b[0m: name 'TfidfVectorizer' is not defined"
     ]
    }
   ],
   "source": [
    "input_ = pd.read_excel(\"coba prediksi.xlsx\") #memasukkan nama file excel berisi komentar baru (yang akan di cek)\n",
    "\n",
    "\n",
    "input_list = input_['komentar'].tolist()\n",
    "f_komentar = [\"\" for x in range (3800)]\n",
    "list_komentar = input_list\n",
    "join_komentar = preproses.preprocessing_implentasi(list_komentar) + f_komentar\n",
    "print(\"*\")\n",
    "kokom = join_komentar[:3800]\n",
    "f = open(\"model/feature.txt\") \n",
    "voc = f.read().split()\n",
    "t_tfidf = TfidfVectorizer(vocabulary = voc)\n",
    "t_tfidf_matrix = tfidf.fit_transform(kokom)\n",
    "cek_komentar = t_tfidf_matrix[:len(list_komentar)]\n",
    "cek_komentar = cek_komentar.toarray()\n",
    "\n",
    "#melakukan prediksi untuk komentar baru\n",
    "P_SVM = cSVM.predict(cek_komentar)\n",
    "P_NB = comNB.predict(cek_komentar)\n",
    "\n",
    "\n",
    "dict = {'komentar':input_list, \"prediksi svm\":P_SVM, \"prediksi CNB\": P_NB}\n",
    "df = pd.DataFrame(dict, columns=['komentar',\"prediksi svm\",\"prediksi CNB\"])\n",
    "df"
   ]
  },
  {
   "cell_type": "code",
   "execution_count": 98,
   "metadata": {},
   "outputs": [
    {
     "data": {
      "text/html": [
       "<div>\n",
       "<style scoped>\n",
       "    .dataframe tbody tr th:only-of-type {\n",
       "        vertical-align: middle;\n",
       "    }\n",
       "\n",
       "    .dataframe tbody tr th {\n",
       "        vertical-align: top;\n",
       "    }\n",
       "\n",
       "    .dataframe thead th {\n",
       "        text-align: right;\n",
       "    }\n",
       "</style>\n",
       "<table border=\"1\" class=\"dataframe\">\n",
       "  <thead>\n",
       "    <tr style=\"text-align: right;\">\n",
       "      <th></th>\n",
       "      <th>komentar</th>\n",
       "      <th>prediksi svm</th>\n",
       "      <th>prediksi CNB</th>\n",
       "    </tr>\n",
       "  </thead>\n",
       "  <tbody>\n",
       "    <tr>\n",
       "      <th>0</th>\n",
       "      <td>Assalamualaikum wr.wb..!!!*PROMO BIG SALE 2018...</td>\n",
       "      <td>spam</td>\n",
       "      <td>spam</td>\n",
       "    </tr>\n",
       "    <tr>\n",
       "      <th>1</th>\n",
       "      <td>yg msh kangen momen2 asian games bisa klik lin...</td>\n",
       "      <td>spam</td>\n",
       "      <td>spam</td>\n",
       "    </tr>\n",
       "    <tr>\n",
       "      <th>2</th>\n",
       "      <td>ok klau begitu saya coba pake panelpediavip.co...</td>\n",
       "      <td>spam</td>\n",
       "      <td>spam</td>\n",
       "    </tr>\n",
       "    <tr>\n",
       "      <th>3</th>\n",
       "      <td>Ғollowwww IG @Marcella.beauty_specialist  gaaa...</td>\n",
       "      <td>spam</td>\n",
       "      <td>spam</td>\n",
       "    </tr>\n",
       "    <tr>\n",
       "      <th>4</th>\n",
       "      <td>Moga lancar n sukses y kak via besuk sore diko...</td>\n",
       "      <td>bukan spam</td>\n",
       "      <td>bukan spam</td>\n",
       "    </tr>\n",
       "    <tr>\n",
       "      <th>5</th>\n",
       "      <td>Semingguuu yang laluuuu akuuu cobaaa cekkk ins...</td>\n",
       "      <td>spam</td>\n",
       "      <td>spam</td>\n",
       "    </tr>\n",
       "    <tr>\n",
       "      <th>6</th>\n",
       "      <td>THÀNKSSSSSS ÝÀ KÀK ÚDÀHHHHHHHH KÀSÌHHHHHHHH TÀ...</td>\n",
       "      <td>spam</td>\n",
       "      <td>spam</td>\n",
       "    </tr>\n",
       "    <tr>\n",
       "      <th>7</th>\n",
       "      <td>MÁŚĶĔŔ ŴÁĴÁĤŃŶÁ oĶĔ ßÁŃĞĔŤ ĶÁĶ ŚĔĶÁŔÁŃĞ ŴÁĴÁĤĶ...</td>\n",
       "      <td>spam</td>\n",
       "      <td>spam</td>\n",
       "    </tr>\n",
       "    <tr>\n",
       "      <th>8</th>\n",
       "      <td>ÀJÀÌBBBBBBBBB ρRÓDÚKNÝÀÀÀÀÀÀ KÀK , BÀNÝÀKKKKK ...</td>\n",
       "      <td>spam</td>\n",
       "      <td>spam</td>\n",
       "    </tr>\n",
       "  </tbody>\n",
       "</table>\n",
       "</div>"
      ],
      "text/plain": [
       "                                            komentar prediksi svm prediksi CNB\n",
       "0  Assalamualaikum wr.wb..!!!*PROMO BIG SALE 2018...         spam         spam\n",
       "1  yg msh kangen momen2 asian games bisa klik lin...         spam         spam\n",
       "2  ok klau begitu saya coba pake panelpediavip.co...         spam         spam\n",
       "3  Ғollowwww IG @Marcella.beauty_specialist  gaaa...         spam         spam\n",
       "4  Moga lancar n sukses y kak via besuk sore diko...   bukan spam   bukan spam\n",
       "5  Semingguuu yang laluuuu akuuu cobaaa cekkk ins...         spam         spam\n",
       "6  THÀNKSSSSSS ÝÀ KÀK ÚDÀHHHHHHHH KÀSÌHHHHHHHH TÀ...         spam         spam\n",
       "7  MÁŚĶĔŔ ŴÁĴÁĤŃŶÁ oĶĔ ßÁŃĞĔŤ ĶÁĶ ŚĔĶÁŔÁŃĞ ŴÁĴÁĤĶ...         spam         spam\n",
       "8  ÀJÀÌBBBBBBBBB ρRÓDÚKNÝÀÀÀÀÀÀ KÀK , BÀNÝÀKKKKK ...         spam         spam"
      ]
     },
     "execution_count": 98,
     "metadata": {},
     "output_type": "execute_result"
    }
   ],
   "source": [
    "df"
   ]
  }
 ],
 "metadata": {
  "kernelspec": {
   "display_name": "Python 3",
   "language": "python",
   "name": "python3"
  },
  "language_info": {
   "codemirror_mode": {
    "name": "ipython",
    "version": 3
   },
   "file_extension": ".py",
   "mimetype": "text/x-python",
   "name": "python",
   "nbconvert_exporter": "python",
   "pygments_lexer": "ipython3",
   "version": "3.6.5"
  }
 },
 "nbformat": 4,
 "nbformat_minor": 2
}

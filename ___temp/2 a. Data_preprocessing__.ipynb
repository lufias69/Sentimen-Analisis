{
 "cells": [
  {
   "cell_type": "code",
   "execution_count": 2,
   "metadata": {},
   "outputs": [],
   "source": [
    "import re, string, unicodedata\n",
    "from unidecode import unidecode\n",
    "#import nltk\n",
    "#from nltk import word_tokenize, sent_tokenize\n",
    "#from nltk.corpus import stopwords\n",
    "\n",
    "import pandas as pd\n",
    "import xlsxwriter\n",
    "import re\n",
    "import time\n",
    "import numpy as np"
   ]
  },
  {
   "cell_type": "markdown",
   "metadata": {},
   "source": [
    "# Load data"
   ]
  },
  {
   "cell_type": "code",
   "execution_count": 4,
   "metadata": {},
   "outputs": [],
   "source": [
    "data = pd.read_excel('data/Dataset_Siap_3800.xlsx', sheet_name = \"Sheet1\")\n",
    "komentar = data['komentar']\n",
    "label = data[\"label\"].tolist()"
   ]
  },
  {
   "cell_type": "markdown",
   "metadata": {},
   "source": [
    "## Melakukan Preprocessing"
   ]
  },
  {
   "cell_type": "code",
   "execution_count": 5,
   "metadata": {},
   "outputs": [],
   "source": [
    "#Load Fungsi preprocessing\n",
    "from modulku import praproses as pps"
   ]
  },
  {
   "cell_type": "code",
   "execution_count": 6,
   "metadata": {},
   "outputs": [],
   "source": [
    "n_komentar = []\n",
    "for teks in komentar:\n",
    "    proses = pps.preprocessing(teks)\n",
    "    proses = pps.removePunc(proses)\n",
    "    proses = pps.replace_word(proses)\n",
    "    proses = pps.stemmer_stopWord(proses)\n",
    "    n_komentar.append(proses)"
   ]
  },
  {
   "cell_type": "markdown",
   "metadata": {},
   "source": [
    "## Menyimpan data yang sudah bersih"
   ]
  },
  {
   "cell_type": "code",
   "execution_count": 7,
   "metadata": {},
   "outputs": [],
   "source": [
    "dict_komentar  = {\"komentar\":n_komentar,\"label\":label}\n",
    "df = pd.DataFrame(dict_komentar,columns = ['komentar', 'label'])\n",
    "writer = pd.ExcelWriter('data/data_komentar_clean_1_.xlsx', engine='xlsxwriter')\n",
    "df.to_excel(writer, sheet_name='Sheet1')\n",
    "# Close the Pandas Excel writer and output the Excel file.\n",
    "writer.save()\n",
    "##Menampilkan dataset  bersih\n",
    "#df"
   ]
  }
 ],
 "metadata": {
  "kernelspec": {
   "display_name": "Python 3",
   "language": "python",
   "name": "python3"
  },
  "language_info": {
   "codemirror_mode": {
    "name": "ipython",
    "version": 3
   },
   "file_extension": ".py",
   "mimetype": "text/x-python",
   "name": "python",
   "nbconvert_exporter": "python",
   "pygments_lexer": "ipython3",
   "version": "3.7.0"
  }
 },
 "nbformat": 4,
 "nbformat_minor": 2
}

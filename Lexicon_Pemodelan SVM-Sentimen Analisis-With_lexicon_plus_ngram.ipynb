{
 "cells": [
  {
   "cell_type": "markdown",
   "metadata": {},
   "source": []
  },
  {
   "cell_type": "code",
   "execution_count": 2,
   "metadata": {},
   "outputs": [],
   "source": [
    "import pandas as pd\n",
    "import time\n",
    "import numpy as np\n",
    "import re\n",
    "import pickle\n",
    "import string, unicodedata\n",
    "from unidecode import unidecode\n",
    "from joblib import dump\n",
    "\n",
    "from sklearn.decomposition import PCA"
   ]
  },
  {
   "cell_type": "code",
   "execution_count": 3,
   "metadata": {},
   "outputs": [],
   "source": [
    "def getData(alamat):\n",
    "    lineList = list()\n",
    "    #with open(dir_path + '/' + alamat) as f:\n",
    "    with open(alamat) as f:\n",
    "        for line in f:\n",
    "            lineList.append(line.rstrip('\\n'))\n",
    "    return lineList"
   ]
  },
  {
   "cell_type": "markdown",
   "metadata": {},
   "source": [
    "## Load Data"
   ]
  },
  {
   "cell_type": "code",
   "execution_count": 4,
   "metadata": {},
   "outputs": [
    {
     "data": {
      "text/plain": [
       "3187"
      ]
     },
     "execution_count": 4,
     "metadata": {},
     "output_type": "execute_result"
    }
   ],
   "source": [
    "data_ = pd.read_excel('data/data_bersih_ngram_tanpa_stemmer.xlsx') #data baru\n",
    "latih_cm = data_['komentar'].tolist()\n",
    "label_cm = data_['label'].tolist()\n",
    "len(latih_cm)"
   ]
  },
  {
   "cell_type": "markdown",
   "metadata": {},
   "source": [
    "## Seleksi Fitur Menggunakan kamus lexicon"
   ]
  },
  {
   "cell_type": "code",
   "execution_count": 5,
   "metadata": {},
   "outputs": [
    {
     "name": "stdout",
     "output_type": "stream",
     "text": [
      "329\n"
     ]
    }
   ],
   "source": [
    "alamata = ['ID-OpinionWords-master/positive.txt', 'ID-OpinionWords-master/negative.txt']\n",
    "kamus_ = list()\n",
    "for i in alamata:\n",
    "    kamus_+=getData(i)\n",
    "    \n",
    "kamus = list()\n",
    "for i in kamus_:\n",
    "    i = i.replace(\"tdk\",'tidak').replace(\"yng\",'yang').replace(\"yg\",'yang').replace(\"dg\",'dengan').replace(\"dgn\",'dengan')\n",
    "    i = i.replace(\" \", \"_\")\n",
    "    kamus.append(i)\n",
    "    i = i.split()\n",
    "    if i[-1]=='-':\n",
    "        print(i)\n",
    "kosa_kata = list()\n",
    "for i in latih_cm:\n",
    "    for j in i.split():\n",
    "        if j in kamus:\n",
    "            kosa_kata.append(j)\n",
    "kosa_kata = list(set(kosa_kata))\n",
    "print(len(kosa_kata))"
   ]
  },
  {
   "cell_type": "markdown",
   "metadata": {},
   "source": [
    "## Proses TF-IDF"
   ]
  },
  {
   "cell_type": "code",
   "execution_count": 7,
   "metadata": {},
   "outputs": [
    {
     "name": "stdout",
     "output_type": "stream",
     "text": [
      "(3187, 329)\n"
     ]
    },
    {
     "data": {
      "text/plain": [
       "['model/tfdf_model_lexicon.joblib']"
      ]
     },
     "execution_count": 7,
     "metadata": {},
     "output_type": "execute_result"
    }
   ],
   "source": [
    "from sklearn.feature_extraction.text import TfidfVectorizer\n",
    "#membuat TF-IDF\n",
    "#f = open(\"model/feature_balance.txt\")\n",
    "#kosa_kata = f.read().split()\n",
    "\n",
    "tfidf = TfidfVectorizer(vocabulary = kosa_kata)\n",
    "\n",
    "tfidf_matrix_ = tfidf.fit_transform(latih_cm) #For CM\n",
    "tfidf_matrix_save = tfidf.fit(latih_cm)\n",
    "print(tfidf_matrix_.shape)\n",
    "X_ = tfidf_matrix_.toarray()\n",
    "X = X_\n",
    "Y_ = np.array(label_cm)\n",
    "Y = Y_\n",
    "dump(tfidf_matrix_save, 'model/tfdf_model_lexicon.joblib')"
   ]
  },
  {
   "cell_type": "markdown",
   "metadata": {},
   "source": [
    "## Plot Bar Label Dataset"
   ]
  },
  {
   "cell_type": "code",
   "execution_count": 8,
   "metadata": {},
   "outputs": [
    {
     "name": "stdout",
     "output_type": "stream",
     "text": [
      "Positive    1751\n",
      "Negative    1436\n",
      "Name: label, dtype: int64\n"
     ]
    }
   ],
   "source": [
    "pca = PCA(n_components=2)\n",
    "pd.value_counts(data_['label']).plot.bar(title='Data Sentimen')\n",
    "print(pd.value_counts(data_['label']))"
   ]
  },
  {
   "cell_type": "code",
   "execution_count": null,
   "metadata": {},
   "outputs": [],
   "source": []
  },
  {
   "cell_type": "markdown",
   "metadata": {},
   "source": [
    "## Proses Pemodelan"
   ]
  },
  {
   "cell_type": "code",
   "execution_count": 9,
   "metadata": {},
   "outputs": [],
   "source": [
    "#Import Library\n",
    "from sklearn import svm\n",
    "from sklearn.metrics import accuracy_score, precision_score"
   ]
  },
  {
   "cell_type": "markdown",
   "metadata": {},
   "source": [
    "### Input parameter"
   ]
  },
  {
   "cell_type": "code",
   "execution_count": 10,
   "metadata": {},
   "outputs": [],
   "source": [
    "#Parameter SVM\n",
    "C = 1.8\n",
    "gamma = 0.6"
   ]
  },
  {
   "cell_type": "markdown",
   "metadata": {},
   "source": [
    "## K-Fold Cross Validation \n",
    "### jalanin aja dulu"
   ]
  },
  {
   "cell_type": "code",
   "execution_count": 28,
   "metadata": {},
   "outputs": [
    {
     "name": "stdout",
     "output_type": "stream",
     "text": [
      "Hasil K-Fold SVM\n",
      "   Rerata akurasi           : 0.6972940202283079\n",
      "   Rerata akurasi (round)   : 0.7\n"
     ]
    },
    {
     "data": {
      "text/html": [
       "<div>\n",
       "<style scoped>\n",
       "    .dataframe tbody tr th:only-of-type {\n",
       "        vertical-align: middle;\n",
       "    }\n",
       "\n",
       "    .dataframe tbody tr th {\n",
       "        vertical-align: top;\n",
       "    }\n",
       "\n",
       "    .dataframe thead th {\n",
       "        text-align: right;\n",
       "    }\n",
       "</style>\n",
       "<table border=\"1\" class=\"dataframe\">\n",
       "  <thead>\n",
       "    <tr style=\"text-align: right;\">\n",
       "      <th></th>\n",
       "      <th>iterasi ke-</th>\n",
       "      <th>akurasi</th>\n",
       "    </tr>\n",
       "  </thead>\n",
       "  <tbody>\n",
       "    <tr>\n",
       "      <th>0</th>\n",
       "      <td>1</td>\n",
       "      <td>0.699060</td>\n",
       "    </tr>\n",
       "    <tr>\n",
       "      <th>1</th>\n",
       "      <td>2</td>\n",
       "      <td>0.711599</td>\n",
       "    </tr>\n",
       "    <tr>\n",
       "      <th>2</th>\n",
       "      <td>3</td>\n",
       "      <td>0.746082</td>\n",
       "    </tr>\n",
       "    <tr>\n",
       "      <th>3</th>\n",
       "      <td>4</td>\n",
       "      <td>0.601881</td>\n",
       "    </tr>\n",
       "    <tr>\n",
       "      <th>4</th>\n",
       "      <td>5</td>\n",
       "      <td>0.699060</td>\n",
       "    </tr>\n",
       "    <tr>\n",
       "      <th>5</th>\n",
       "      <td>6</td>\n",
       "      <td>0.379310</td>\n",
       "    </tr>\n",
       "    <tr>\n",
       "      <th>6</th>\n",
       "      <td>7</td>\n",
       "      <td>0.768025</td>\n",
       "    </tr>\n",
       "    <tr>\n",
       "      <th>7</th>\n",
       "      <td>8</td>\n",
       "      <td>0.663522</td>\n",
       "    </tr>\n",
       "    <tr>\n",
       "      <th>8</th>\n",
       "      <td>9</td>\n",
       "      <td>0.827044</td>\n",
       "    </tr>\n",
       "    <tr>\n",
       "      <th>9</th>\n",
       "      <td>10</td>\n",
       "      <td>0.877358</td>\n",
       "    </tr>\n",
       "  </tbody>\n",
       "</table>\n",
       "</div>"
      ],
      "text/plain": [
       "   iterasi ke-   akurasi\n",
       "0            1  0.699060\n",
       "1            2  0.711599\n",
       "2            3  0.746082\n",
       "3            4  0.601881\n",
       "4            5  0.699060\n",
       "5            6  0.379310\n",
       "6            7  0.768025\n",
       "7            8  0.663522\n",
       "8            9  0.827044\n",
       "9           10  0.877358"
      ]
     },
     "execution_count": 28,
     "metadata": {},
     "output_type": "execute_result"
    }
   ],
   "source": [
    "K = 10 #pembagian data uji dan data latih\n",
    "from sklearn.model_selection import KFold\n",
    "from sklearn.metrics import accuracy_score #, precision_score, recall_score\n",
    "kf= KFold(n_splits=K) \n",
    "\n",
    "cSVM = svm.SVC(kernel='rbf', gamma=gamma, C=C)\n",
    "\n",
    "akurasi_svm = []\n",
    "\n",
    "for train_index, test_index in kf.split(X):\n",
    "    #membagi data latih dan data uji\n",
    "    X_train, X_test = X[train_index], X[test_index] #pembagian data latih\n",
    "    y_train, y_test = Y[train_index], Y[test_index]\n",
    "    \n",
    "    #Melatih Model \n",
    "    mSVM = cSVM.fit(X_train, y_train) #SVM\n",
    "\n",
    "    #proses prediksi\n",
    "    P_SVM = mSVM.predict(X_test)\n",
    "\n",
    "    #menyimpan hasil akurasi tiap iterasi\n",
    "    akurasi_svm.append(accuracy_score(y_test, P_SVM))\n",
    "    \n",
    "rerata_akurasi_svm = sum(akurasi_svm)/len(akurasi_svm)\n",
    "\n",
    "print(\"Hasil K-Fold SVM\")\n",
    "print(\"   Rerata akurasi           :\",rerata_akurasi_svm)\n",
    "print(\"   Rerata akurasi (round)   :\",round(rerata_akurasi_svm,2))\n",
    "dic1 = {\"iterasi ke-\":[x+1 for x in range(10)], \"akurasi\":akurasi_svm}\n",
    "pd.DataFrame.from_dict(dic1)"
   ]
  },
  {
   "cell_type": "code",
   "execution_count": 14,
   "metadata": {},
   "outputs": [
    {
     "data": {
      "text/plain": [
       "0.6969854695293863"
      ]
     },
     "execution_count": 14,
     "metadata": {},
     "output_type": "execute_result"
    }
   ],
   "source": [
    "rerata_akurasi_svm"
   ]
  },
  {
   "cell_type": "markdown",
   "metadata": {},
   "source": [
    "# Hanya coba (belum menggunakan data baru)\n",
    "## Proses Confusion Matrix untuk SVM"
   ]
  },
  {
   "cell_type": "code",
   "execution_count": 15,
   "metadata": {},
   "outputs": [
    {
     "data": {
      "text/plain": [
       "Positive    1720\n",
       "Negative    1417\n",
       "Name: label, dtype: int64"
      ]
     },
     "execution_count": 15,
     "metadata": {},
     "output_type": "execute_result"
    },
    {
     "data": {
      "image/png": "[encoded data removed]",
      "text/plain": [
       "<Figure size 432x288 with 1 Axes>"
      ]
     },
     "metadata": {
      "needs_background": "light"
     },
     "output_type": "display_data"
    }
   ],
   "source": [
    "index_train = [x for x in range(3137)]\n",
    "cm_Y = Y_[index_train]\n",
    "dc = {\"label\":cm_Y}\n",
    "cd = pd.DataFrame(dc, columns=['label'])\n",
    "pd.value_counts(cd['label']).plot.bar(title='Data sentimen')\n",
    "pd.value_counts(cd['label'])"
   ]
  },
  {
   "cell_type": "code",
   "execution_count": 16,
   "metadata": {},
   "outputs": [
    {
     "name": "stdout",
     "output_type": "stream",
     "text": [
      "SVM\n",
      "[[15  4]\n",
      " [ 6 25]]\n",
      "   F-Measure (SVM)\n",
      "   ----------------\n",
      "   akurasi   :  0.797962648556876\n",
      "   precision :  0.8031088082901554\n",
      "   recall    :  0.7894736842105263\n",
      "   f-Measure :  0.7962328767123288\n"
     ]
    }
   ],
   "source": [
    "import numpy as np\n",
    "from sklearn import svm\n",
    "from sklearn.metrics import confusion_matrix\n",
    "\n",
    "\n",
    "index_train = [x for x in range(3137)]\n",
    "index__test = [x for x in range(3137, 3187)]\n",
    "\n",
    "cm_X = X_[index_train]\n",
    "cm_Y = Y_[index_train]\n",
    "cm_X_test = X_[index__test]\n",
    "cm_Y_test = Y_[index__test]\n",
    "\n",
    "X_train = cm_X\n",
    "X_test = cm_X_test\n",
    "\n",
    "y_train = cm_Y\n",
    "y_test = cm_Y_test\n",
    "\n",
    "class_names = ['Positive', 'Negative']\n",
    "\n",
    "classifier = svm.SVC(kernel='rbf', C=C, gamma=gamma) #Model SVM\n",
    "y_pred = classifier.fit(X_train, y_train).predict(X_test)\n",
    "# Compute confusion matrix\n",
    "print(\"SVM\")\n",
    "cnf_matrix = confusion_matrix(y_test, y_pred) # inti\n",
    "print(cnf_matrix)\n",
    "cm = cnf_matrix.astype('float') / cnf_matrix.sum(axis=1)[:, np.newaxis]\n",
    "tp= cm [0][0]\n",
    "fn= cm [0][1]\n",
    "fp= cm [1][0]\n",
    "tn= cm [1][1]\n",
    "cm_akurasi = (tp+tn)/(tp+tn+fp+fn)\n",
    "cm_precision = tp/(tp+fp)\n",
    "cm_recall = tp/(tp+fn)\n",
    "\n",
    "f_measure = 2*(cm_precision*cm_recall)/(cm_precision+cm_recall)\n",
    "print(\"   F-Measure (SVM)\")\n",
    "print(\"   ----------------\")\n",
    "print(\"   akurasi   : \", cm_akurasi)\n",
    "print(\"   precision : \", cm_precision)\n",
    "print(\"   recall    : \", cm_recall)\n",
    "print(\"   f-Measure : \", f_measure)"
   ]
  },
  {
   "cell_type": "markdown",
   "metadata": {},
   "source": [
    "## Menyimpan model"
   ]
  },
  {
   "cell_type": "code",
   "execution_count": 11,
   "metadata": {},
   "outputs": [
    {
     "data": {
      "text/plain": [
       "['model/svm_model_lexicon.joblib']"
      ]
     },
     "execution_count": 11,
     "metadata": {},
     "output_type": "execute_result"
    }
   ],
   "source": [
    "cSVM = svm.SVC(kernel='rbf', gamma=gamma, C=C)\n",
    "#Melatih Model untuk data secara keseluruhan (X dan Y)\n",
    "cSVM = cSVM.fit(X, Y) #SVN\n",
    "\n",
    "#save models\n",
    "dump(cSVM, 'model/svm_model_lexicon.joblib')"
   ]
  },
  {
   "cell_type": "code",
   "execution_count": null,
   "metadata": {},
   "outputs": [],
   "source": []
  }
 ],
 "metadata": {
  "kernelspec": {
   "display_name": "Python 3",
   "language": "python",
   "name": "python3"
  },
  "language_info": {
   "codemirror_mode": {
    "name": "ipython",
    "version": 3
   },
   "file_extension": ".py",
   "mimetype": "text/x-python",
   "name": "python",
   "nbconvert_exporter": "python",
   "pygments_lexer": "ipython3",
   "version": "3.6.8"
  }
 },
 "nbformat": 4,
 "nbformat_minor": 2
}

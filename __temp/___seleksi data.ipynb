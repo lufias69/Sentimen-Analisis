{
 "cells": [
  {
   "cell_type": "code",
   "execution_count": 1,
   "metadata": {},
   "outputs": [],
   "source": [
    "import pandas as pd\n",
    "from unidecode import unidecode\n",
    "\n",
    "import re, string, unicodedata\n"
   ]
  },
  {
   "cell_type": "code",
   "execution_count": 69,
   "metadata": {},
   "outputs": [],
   "source": [
    "\n",
    "data_replace  = pd.read_excel('data/Corpus_kata_replace_new.xlsx', sheet_name = 'kata_repalce')\n",
    "load_spam = pd.read_excel('data/kata_spam.xlsx', sheet_name = 'Sheet1')\n",
    "spam = list(set(load_spam['spam'].tolist()))\n",
    "data_hapus  = pd.read_excel('data/Corpus_kata_replace_new.xlsx', sheet_name = 'kata_hapus')\n",
    "#data_olah  = pd.read_excel('data/komentar_label_new.xlsx')\n",
    "#data_new = data\n",
    "diganti = data_replace['kata'].tolist()\n",
    "ganti = data_replace['ganti'].tolist()\n",
    "hapus = data_hapus['kata'].tolist()"
   ]
  },
  {
   "cell_type": "code",
   "execution_count": 70,
   "metadata": {},
   "outputs": [],
   "source": [
    "fo = pd.read_excel('data/karakter.xlsx', sheet_name='Sheet1')\n",
    "x = fo['karakter'].tolist() #\n",
    "y = fo['replace'].tolist()\n",
    "def gantiKarakter(str, x=x, y=y):\n",
    "    for i in range(len(x)):\n",
    "        if i == 0:\n",
    "            n_word = str\n",
    "        n_word = n_word.replace(x[i],y[i])\n",
    "    return unidecode(n_word).lower()\n",
    "\n",
    "\n",
    "def replace_sw(teks):\n",
    "    teks_tokenize = teks.split()\n",
    "    for j in range(len(teks_tokenize)):\n",
    "        for k in range(len(diganti)):\n",
    "            if teks_tokenize[j]==diganti[k]:\n",
    "                teks_tokenize[j] = ganti[k]\n",
    "        for k in range(len(hapus)):\n",
    "            if teks_tokenize[j] == hapus[k]:\n",
    "                teks_tokenize[j]= ''\n",
    "    join = ' '.join(map(str,(teks_tokenize)))\n",
    "    join = re.sub('[\\s]+', ' ', join)\n",
    "    return join\n",
    "\n",
    "def removePunc(str):\n",
    "    str = re.sub(r'[^\\w]|_',' ',str)\n",
    "    str = re.sub(r\"\\b\\d+\\b\", \" \", str)\n",
    "    str = re.sub('[\\s]+', ' ', str)\n",
    "    return str\n",
    "#x = removePunc(replace_sw(teks))\n",
    "\n",
    "\n",
    "fo = pd.read_excel('data/karakter.xlsx', sheet_name='Sheet1')\n",
    "x = fo['karakter'].tolist() #\n",
    "y = fo['replace'].tolist()\n",
    "def gantiKarakter(str, x=x, y=y):\n",
    "    for i in range(len(x)):\n",
    "        if i == 0:\n",
    "            n_word = str\n",
    "        n_word = n_word.replace(x[i],y[i])\n",
    "    return unidecode(n_word).lower()\n",
    "\n",
    "def normalAt(str):\n",
    "    ok = gantiKarakter(str)\n",
    "    n_w = []\n",
    "    for i in range(len(ok)):\n",
    "        if ok[i] == \"@\" and i !=0 and ok[i-1] !=\" \":\n",
    "            n_w.append(\" @\")\n",
    "        else:\n",
    "            n_w.append(ok[i])\n",
    "    return \"\".join(n_w)\n",
    "\n",
    "def cleaning(str):\n",
    "    #remove non-ascii\n",
    "    str = unicodedata.normalize('NFKD', str).encode('ascii', 'ignore').decode('utf-8', 'ignore')\n",
    "    #remove URLs\n",
    "    str = re.sub(r'(?i)\\b((?:https?://|www\\d{0,3}[.]|[a-z0-9.\\-]+[.][a-z]{2,4}/)(?:[^\\s()<>]+|\\(([^\\s()<>]+|(\\([^\\s()<>]+\\)))*\\))+(?:\\(([^\\s()<>]+|(\\([^\\s()<>]+\\)))*\\)|[^\\s`!()\\[\\]{};:\\'\".,<>?«»“”‘’]))', '', str)\n",
    "    str = str.lower()\n",
    "    #Remove additional white spaces\n",
    "    str = re.sub('[\\s]+', ' ', str)\n",
    "       \n",
    "    return str\n",
    "def getJtext(text):\n",
    "    words = re.findall(r'[a-z0-9@.]+', text)\n",
    "    return ' '.join(words)\n",
    "def preprocessing1(str):\n",
    "    text = cleaning(normalAt(str))\n",
    "    text = getJtext(text)\n",
    "    return text"
   ]
  },
  {
   "cell_type": "code",
   "execution_count": null,
   "metadata": {},
   "outputs": [],
   "source": []
  },
  {
   "cell_type": "code",
   "execution_count": 71,
   "metadata": {},
   "outputs": [
    {
     "data": {
      "text/plain": [
       "649"
      ]
     },
     "execution_count": 71,
     "metadata": {},
     "output_type": "execute_result"
    }
   ],
   "source": [
    "data = pd.read_excel('data/komentar_pertamakali.xlsx', sheet_name = \"Sheet1\")\n",
    "komentar = data['komentar']\n",
    "\n",
    "n_komentar = []    \n",
    "for teks in komentar:\n",
    "    proses = preprocessing1(teks)\n",
    "    proses = removePunc(replace_sw(proses))\n",
    "    n_komentar.append(proses)\n",
    "#n2_komentar = preprocessing2(n_komentar)\n",
    "len(n_komentar)"
   ]
  },
  {
   "cell_type": "code",
   "execution_count": 72,
   "metadata": {},
   "outputs": [
    {
     "name": "stdout",
     "output_type": "stream",
     "text": [
      "649\n"
     ]
    }
   ],
   "source": [
    "print(len(komentar))"
   ]
  },
  {
   "cell_type": "code",
   "execution_count": 73,
   "metadata": {},
   "outputs": [
    {
     "name": "stdout",
     "output_type": "stream",
     "text": [
      "70\n"
     ]
    }
   ],
   "source": [
    "kode_spam = []\n",
    "#spam = x2\n",
    "for i in n_komentar:\n",
    "    #k = tk.tokenize(i)\n",
    "    k = i.split()\n",
    "    dsp = \"zero\"\n",
    "    for j in k:\n",
    "        for s in spam:\n",
    "            if s == j:\n",
    "                dsp = \"spam\"\n",
    "    if dsp == \"spam\":\n",
    "        kode_spam.append(1)\n",
    "    else:\n",
    "        kode_spam.append(\"\")\n",
    "dic = {\"kode\":kode_spam}\n",
    "\n",
    "#df = pd.DataFrame(dic,columns = ['kode'])\n",
    "#writer = pd.ExcelWriter('data/kodelabel2.xlsx', engine='xlsxwriter')\n",
    "#df.to_excel(writer, sheet_name='Sheet1')\n",
    "#writer.save()\n",
    "#df\n",
    "\n",
    "ddd=0\n",
    "for i in kode_spam:\n",
    "    if i == 1:\n",
    "        ddd+=1\n",
    "print(ddd)"
   ]
  },
  {
   "cell_type": "code",
   "execution_count": 74,
   "metadata": {},
   "outputs": [
    {
     "data": {
      "text/plain": [
       "69"
      ]
     },
     "execution_count": 74,
     "metadata": {},
     "output_type": "execute_result"
    }
   ],
   "source": [
    "#SPAM\n",
    "data = []\n",
    "for i in range(len(n_komentar)):\n",
    "    split = n_komentar[i].split()\n",
    "    if len(split)>7 and  kode_spam[i] == 1:\n",
    "        data.append(komentar[i])\n",
    "dict_komentar  = {\"komentar\":data}\n",
    "df = pd.DataFrame(dict_komentar,columns = ['komentar'])\n",
    "writer = pd.ExcelWriter('data/spam-dari-nomSpam.xlsx', engine='xlsxwriter')\n",
    "df.to_excel(writer, sheet_name='Sheet1')\n",
    "df.to_excel(writer, sheet_name='Sheet1')\n",
    "\n",
    "# Close the Pandas Excel writer and output the Excel file.\n",
    "writer.save()\n",
    "len(data)"
   ]
  },
  {
   "cell_type": "code",
   "execution_count": 75,
   "metadata": {},
   "outputs": [
    {
     "data": {
      "text/plain": [
       "573"
      ]
     },
     "execution_count": 75,
     "metadata": {},
     "output_type": "execute_result"
    }
   ],
   "source": [
    "data = []\n",
    "for i in range(len(n_komentar)):\n",
    "    split = n_komentar[i].split()\n",
    "    if len(split)>6 and  kode_spam[i] != 1:\n",
    "        data.append(komentar[i])\n",
    "dict_komentar  = {\"komentar\":data}\n",
    "df = pd.DataFrame(dict_komentar,columns = ['komentar'])\n",
    "writer = pd.ExcelWriter('data/nospam.xlsx', engine='xlsxwriter')\n",
    "df.to_excel(writer, sheet_name='Sheet1')\n",
    "df.to_excel(writer, sheet_name='Sheet1')\n",
    "\n",
    "# Close the Pandas Excel writer and output the Excel file.\n",
    "writer.save()\n",
    "len(data)"
   ]
  },
  {
   "cell_type": "code",
   "execution_count": null,
   "metadata": {},
   "outputs": [],
   "source": []
  },
  {
   "cell_type": "code",
   "execution_count": null,
   "metadata": {},
   "outputs": [],
   "source": []
  },
  {
   "cell_type": "code",
   "execution_count": 44,
   "metadata": {},
   "outputs": [],
   "source": [
    "data = pd.read_excel('data/dataset.xlsx', sheet_name = \"spam\")\n",
    "komentar = data['komentar']\n",
    "\n",
    "x = list((set(komentar)))"
   ]
  },
  {
   "cell_type": "code",
   "execution_count": 48,
   "metadata": {},
   "outputs": [
    {
     "name": "stdout",
     "output_type": "stream",
     "text": [
      "2615\n",
      "1778\n"
     ]
    }
   ],
   "source": [
    "dict_komentar  = {\"komentar\":x}\n",
    "df = pd.DataFrame(dict_komentar,columns = ['komentar'])\n",
    "writer = pd.ExcelWriter('data/komentar_SPAM_last.xlsx', engine='xlsxwriter')\n",
    "df.to_excel(writer, sheet_name='Sheet1')\n",
    "df.to_excel(writer, sheet_name='Sheet1')\n",
    "\n",
    "# Close the Pandas Excel writer and output the Excel file.\n",
    "writer.save()\n",
    "print(len(komentar))\n",
    "print(len(x))"
   ]
  },
  {
   "cell_type": "code",
   "execution_count": 50,
   "metadata": {},
   "outputs": [],
   "source": [
    "data = pd.read_excel('data/data_pertakali.xlsx', sheet_name = \"Sheet1\")\n",
    "komentar = data['komentar']"
   ]
  },
  {
   "cell_type": "code",
   "execution_count": 61,
   "metadata": {},
   "outputs": [
    {
     "name": "stdout",
     "output_type": "stream",
     "text": [
      "1759\n",
      "5\n"
     ]
    }
   ],
   "source": [
    "datata= []\n",
    "for i in komentar:\n",
    "    x = i.split()\n",
    "    if len(x)>7:\n",
    "        datata.append(i)\n",
    "dict_komentar  = {\"komentar\":datata}\n",
    "df = pd.DataFrame(dict_komentar,columns = ['komentar'])\n",
    "writer = pd.ExcelWriter('data/komentar_pertamakali.xlsx', engine='xlsxwriter')\n",
    "df.to_excel(writer, sheet_name='Sheet1')\n",
    "df.to_excel(writer, sheet_name='Sheet1')\n",
    "\n",
    "# Close the Pandas Excel writer and output the Excel file.\n",
    "writer.save()\n",
    "print(len(komentar))\n",
    "print(len(x))"
   ]
  },
  {
   "cell_type": "code",
   "execution_count": 60,
   "metadata": {},
   "outputs": [
    {
     "data": {
      "text/plain": [
       "649"
      ]
     },
     "execution_count": 60,
     "metadata": {},
     "output_type": "execute_result"
    }
   ],
   "source": [
    "len(datata)"
   ]
  }
 ],
 "metadata": {
  "kernelspec": {
   "display_name": "Python 3",
   "language": "python",
   "name": "python3"
  },
  "language_info": {
   "codemirror_mode": {
    "name": "ipython",
    "version": 3
   },
   "file_extension": ".py",
   "mimetype": "text/x-python",
   "name": "python",
   "nbconvert_exporter": "python",
   "pygments_lexer": "ipython3",
   "version": "3.7.0"
  }
 },
 "nbformat": 4,
 "nbformat_minor": 2
}
